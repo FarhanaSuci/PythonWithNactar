{
 "cells": [
  {
   "cell_type": "code",
   "execution_count": 87,
   "id": "4112180e-cdfc-4d27-97f2-cf9a81d95e7c",
   "metadata": {},
   "outputs": [
    {
     "name": "stdin",
     "output_type": "stream",
     "text": [
      "Enter the number of tuples:  11\n",
      "Enter the first integer for tuple 1:  1\n",
      "Enter the second integer for tuple 1:  2\n",
      "Enter the first integer for tuple 2:  2\n",
      "Enter the second integer for tuple 2:  3\n",
      "Enter the first integer for tuple 3:  4\n",
      "Enter the second integer for tuple 3:  5\n",
      "Enter the first integer for tuple 4:  6\n",
      "Enter the second integer for tuple 4:  7\n",
      "Enter the first integer for tuple 5:  8\n",
      "Enter the second integer for tuple 5:  9\n",
      "Enter the first integer for tuple 6:  1\n",
      "Enter the second integer for tuple 6:  9\n",
      "Enter the first integer for tuple 7:  2\n",
      "Enter the second integer for tuple 7:  8\n",
      "Enter the first integer for tuple 8:  3\n",
      "Enter the second integer for tuple 8:  7\n",
      "Enter the first integer for tuple 9:  4\n",
      "Enter the second integer for tuple 9:  6\n",
      "Enter the first integer for tuple 10:  6\n",
      "Enter the second integer for tuple 10:  4\n",
      "Enter the first integer for tuple 11:  5\n",
      "Enter the second integer for tuple 11:  5\n"
     ]
    },
    {
     "name": "stdout",
     "output_type": "stream",
     "text": [
      "\n",
      "\n",
      "Input tuple is : [(1, 2), (2, 3), (4, 5), (6, 7), (8, 9), (1, 9), (2, 8), (3, 7), (4, 6), (6, 4), (5, 5)]\n",
      "\n"
     ]
    },
    {
     "name": "stdin",
     "output_type": "stream",
     "text": [
      "Enter the target sum:  10\n"
     ]
    },
    {
     "name": "stdout",
     "output_type": "stream",
     "text": [
      "Pairs with the target sum: [(1, 9), (2, 8), (3, 7), (4, 6), (6, 4), (5, 5)]\n"
     ]
    }
   ],
   "source": [
    "def findSum(tuples, targetSum):\n",
    "    result = []\n",
    "    \n",
    "    for pair in tuples:\n",
    "        if sum(pair) == targetSum:\n",
    "            result.append(pair)\n",
    "    \n",
    "    return result\n",
    "\n",
    "tuples = []\n",
    "n = int(input(\"Enter the number of tuples: \"))\n",
    "\n",
    "for i in range(n):\n",
    "    a = int(input(f\"Enter the first integer for tuple {i+1}: \"))\n",
    "    b = int(input(f\"Enter the second integer for tuple {i+1}: \"))\n",
    "    tuples.append((a, b))\n",
    "\n",
    "print(f\"\\n\\nInput tuple is : {tuples}\\n\")\n",
    "targetSum = int(input(\"Enter the target sum: \"))\n",
    "result = findSum(tuples, targetSum)\n",
    "print(\"Pairs with the target sum:\", result)\n"
   ]
  },
  {
   "cell_type": "code",
   "execution_count": null,
   "id": "90960efd-7fb7-4121-9e2a-61d4f1774fab",
   "metadata": {},
   "outputs": [],
   "source": [
    "(1,2),(2,3),(4,5),(6,7),(8,9),(1,9),(2,8),(3,7),(4,6),(6,4),(5,5)]"
   ]
  },
  {
   "cell_type": "code",
   "execution_count": 33,
   "id": "34d03cd3-fcb7-4dd2-b9e2-e95c76cd1325",
   "metadata": {},
   "outputs": [
    {
     "name": "stdin",
     "output_type": "stream",
     "text": [
      "Please enter the dimension of  square array:  3\n"
     ]
    },
    {
     "name": "stdout",
     "output_type": "stream",
     "text": [
      "Enter array elements :\n"
     ]
    },
    {
     "name": "stdin",
     "output_type": "stream",
     "text": [
      " 1\n",
      " 2\n",
      " 3\n",
      " 4\n",
      " 5\n",
      " 6\n",
      " 7\n",
      " 8\n",
      " 9\n"
     ]
    },
    {
     "name": "stdout",
     "output_type": "stream",
     "text": [
      "[[1, 2, 3], [4, 5, 6], [7, 8, 9]]\n",
      "\n",
      "The array is:\n",
      "[[1 2 3]\n",
      " [4 5 6]\n",
      " [7 8 9]]\n",
      "\n",
      "The sum of the diagonal elements is: 15\n"
     ]
    }
   ],
   "source": [
    "import numpy \n",
    "\n",
    "def diagonalSum(arr):\n",
    "    \n",
    "    diagonalSum = 0\n",
    "    for i in range(len(arr)):\n",
    "        diagonalSum += arr[i, i]\n",
    "    return diagonalSum\n",
    "n = int(input(\"Please enter the dimension of  square array: \"))\n",
    "arrayElements = []\n",
    "print(\"Enter array elements :\")\n",
    "for i in range(n):\n",
    "    listElements=[]\n",
    "    for j in range(n):\n",
    "        a=int(input())\n",
    "        listElements.append(a)\n",
    "    arrayElements.append(listElements)\n",
    "        \n",
    "\n",
    "print(arrayElements)\n",
    "arr = numpy.array(arrayElements)\n",
    "print(\"\\nThe array is:\")\n",
    "print(arr)\n",
    "result = diagonalSum(arr)\n",
    "print(f\"\\nThe sum of the diagonal elements is: {result}\")"
   ]
  },
  {
   "cell_type": "code",
   "execution_count": 90,
   "id": "d8bbeb23-77ff-42df-80c2-7c941a923bbb",
   "metadata": {},
   "outputs": [
    {
     "name": "stdout",
     "output_type": "stream",
     "text": [
      "Dictionary1 is : {'Suchi': 100, 'Deya': 80, 'Srabanti': 85}\n",
      "\n",
      "Dictionary2 is : {'Suchi': 95, 'Deya': 85, 'Srabanti': 89, 'Sumi': 70}\n",
      "\n",
      "Merged dictionary is : {'Suchi': [100, 95], 'Deya': [80, 85], 'Srabanti': [85, 89], 'Sumi': 70}\n"
     ]
    }
   ],
   "source": [
    "def mergeDicts(dict1, dict2):\n",
    "    merged = {}\n",
    "    for key in dict1:\n",
    "        if key in dict2:\n",
    "            merged[key] = [dict1[key], dict2[key]]\n",
    "        else:\n",
    "            merged[key] = dict1[key]\n",
    "    \n",
    "    for key in dict2:\n",
    "        if key not in merged:\n",
    "            merged[key] = dict2[key]\n",
    "\n",
    "    return merged\n",
    "dict1 = {\n",
    "    'Suchi': 100,\n",
    "    'Deya': 80,\n",
    "    'Srabanti':85\n",
    "}\n",
    "\n",
    "dict2 = {\n",
    "    'Suchi': 95,\n",
    "    'Deya': 85,\n",
    "    'Srabanti':89,\n",
    "    'Sumi': 70\n",
    "}\n",
    "outputs = mergeDicts(dict1, dict2)\n",
    "print(f\"Dictionary1 is : {dict1}\\n\")\n",
    "print(f\"Dictionary2 is : {dict2}\\n\")\n",
    "print(f\"Merged dictionary is : {outputs}\")\n"
   ]
  },
  {
   "cell_type": "markdown",
   "id": "e26811d5-29bf-4922-aa4f-bbf92f40c8c0",
   "metadata": {},
   "source": [
    "***Time Complexity:-***\n",
    "Iterating through dictionary1: The first loop runs in \n",
    "𝑂\n",
    "(\n",
    "3\n",
    ")\n",
    ", where \n",
    "3\n",
    "is the number of keys in dictionary1.\n",
    "Iterating through dictionary2: The second loop runs in \n",
    "𝑂\n",
    "(\n",
    "4\n",
    ")\n",
    ", where \n",
    "4 is the number of keys in dictionary2.\n",
    "Thus, the overall time complexity of the merge operation is O(3+4),  \n",
    "is equal to o(7). This approach efficiently handles the merging of two dictionaries."
   ]
  },
  {
   "cell_type": "code",
   "execution_count": null,
   "id": "c18a3b97-5830-494d-afa3-09548fc5edd4",
   "metadata": {},
   "outputs": [],
   "source": []
  }
 ],
 "metadata": {
  "kernelspec": {
   "display_name": "Python 3 (ipykernel)",
   "language": "python",
   "name": "python3"
  },
  "language_info": {
   "codemirror_mode": {
    "name": "ipython",
    "version": 3
   },
   "file_extension": ".py",
   "mimetype": "text/x-python",
   "name": "python",
   "nbconvert_exporter": "python",
   "pygments_lexer": "ipython3",
   "version": "3.12.4"
  }
 },
 "nbformat": 4,
 "nbformat_minor": 5
}
