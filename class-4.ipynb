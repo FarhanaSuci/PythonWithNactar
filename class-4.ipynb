{
 "cells": [
  {
   "cell_type": "markdown",
   "metadata": {
    "id": "j_95Nxq5rmDu"
   },
   "source": [
    "1. variables\n",
    "2. operators"
   ]
  },
  {
   "cell_type": "markdown",
   "metadata": {
    "id": "7Xm6-fC2rvTW"
   },
   "source": [
    "varibales :\n",
    " 1.varibales name must start with a-z or _\n",
    "\n",
    " 2. variables name cannot start with a number\n",
    "\n",
    " 3.varibale name can contain only alpha numeric character and number 0-9 and underscore\n",
    " 4. varibale name case sensitive (Nmae ,name)\n",
    "\n",
    " 5. varibale name cannot be a python keywords\n",
    "\n",
    " 6. variables name must not have any white space"
   ]
  },
  {
   "cell_type": "code",
   "execution_count": 1,
   "metadata": {
    "colab": {
     "base_uri": "https://localhost:8080/"
    },
    "id": "zQgZnYy0r6_z",
    "outputId": "70147770-fd03-4d90-a2dd-f9d720c4d50b"
   },
   "outputs": [
    {
     "name": "stdout",
     "output_type": "stream",
     "text": [
      "40\n"
     ]
    }
   ],
   "source": [
    "a=15\n",
    "b=25\n",
    "\n",
    "print(a+b)"
   ]
  },
  {
   "cell_type": "markdown",
   "metadata": {
    "id": "mmU0_N06ubYV"
   },
   "source": [
    "a=int(3.5)\n",
    "\n",
    "b=int(2)\n"
   ]
  },
  {
   "cell_type": "code",
   "execution_count": 10,
   "metadata": {
    "colab": {
     "base_uri": "https://localhost:8080/"
    },
    "id": "p5zyGPa1uivJ",
    "outputId": "afa3526f-1b73-4c25-9293-a25b36a1dc84"
   },
   "outputs": [
    {
     "name": "stdout",
     "output_type": "stream",
     "text": [
      "3\n",
      "40.5\n",
      "<class 'float'>\n",
      "<class 'float'>\n",
      "20.0\n"
     ]
    }
   ],
   "source": [
    "a=int(3.5)\n",
    "\n",
    "b=int(2)\n",
    "print(a)\n",
    "\n",
    "d=20.5\n",
    "\n",
    "e=float(20)\n",
    "\n",
    "f=d+e\n",
    "print(f)\n",
    "print(type(f))\n",
    "print(type(e))\n",
    "print(e)\n",
    "\n",
    "\n",
    "\n"
   ]
  },
  {
   "cell_type": "code",
   "execution_count": 14,
   "metadata": {
    "colab": {
     "base_uri": "https://localhost:8080/"
    },
    "id": "2WSsVjVorUOD",
    "outputId": "eb0f123c-e632-49aa-b2bb-3d6f8ec4288f"
   },
   "outputs": [
    {
     "name": "stdout",
     "output_type": "stream",
     "text": [
      "enter the value of a=3\n",
      "enter the value of b=4\n",
      "sum of a and b= 7.0\n"
     ]
    }
   ],
   "source": [
    "a=int(input(\"enter the value of a=\"))\n",
    "b=float(input(\"enter the value of b=\"))\n",
    "\n",
    "c=a+b\n",
    "\n",
    "print(\"sum of a and b=\",c)"
   ]
  },
  {
   "cell_type": "markdown",
   "metadata": {
    "id": "ePK1HiP5ypRm"
   },
   "source": [
    "valuetostore=10\n"
   ]
  },
  {
   "cell_type": "code",
   "execution_count": 15,
   "metadata": {
    "colab": {
     "base_uri": "https://localhost:8080/"
    },
    "id": "3ozw27ceyPKT",
    "outputId": "ec54edcc-06c2-4a8b-f30b-8c8cac9f1f0a"
   },
   "outputs": [
    {
     "name": "stdout",
     "output_type": "stream",
     "text": [
      "10\n",
      "11\n",
      "12\n"
     ]
    }
   ],
   "source": [
    "a,b,c=10,11,12\n",
    "\n",
    "print(a)\n",
    "print(b)\n",
    "print(c)\n"
   ]
  },
  {
   "cell_type": "code",
   "execution_count": 21,
   "metadata": {
    "colab": {
     "base_uri": "https://localhost:8080/"
    },
    "id": "c9nRBP7nzLaX",
    "outputId": "c7f4f6a2-c589-4630-bbb0-2009f14c05be"
   },
   "outputs": [
    {
     "name": "stdout",
     "output_type": "stream",
     "text": [
      "a= 10\n",
      "b= 20\n",
      "after swaping values are=\n",
      "a= 20\n",
      "b= 10\n",
      "hello\n"
     ]
    }
   ],
   "source": [
    "a=10\n",
    "b=20\n",
    "c=\"hello\"\n",
    "print(\"a=\",a)\n",
    "print(\"b=\",b)\n",
    "a,b,d=b,a,c\n",
    "\n",
    "print(\"after swaping values are=\")\n",
    "print(\"a=\",a)\n",
    "print(\"b=\",b)\n",
    "\n",
    "print(d)\n",
    "\n",
    "\n",
    "\n",
    "\n",
    "\n"
   ]
  },
  {
   "cell_type": "code",
   "execution_count": null,
   "metadata": {
    "id": "LY0Mokxn2fMf"
   },
   "outputs": [],
   "source": [
    "a=b=c=d=20\n",
    "a,b,c,d=20\n"
   ]
  },
  {
   "cell_type": "code",
   "execution_count": 24,
   "metadata": {
    "colab": {
     "base_uri": "https://localhost:8080/"
    },
    "id": "8XxtFZvc2tO4",
    "outputId": "ae3f23d5-3eaa-4a1e-8f18-f2cfd0cce12a"
   },
   "outputs": [
    {
     "name": "stdout",
     "output_type": "stream",
     "text": [
      "10\n"
     ]
    }
   ],
   "source": [
    "shafiqul_islam=10\n",
    "print(shafiqul_islam)"
   ]
  },
  {
   "cell_type": "markdown",
   "metadata": {
    "id": "yFRSEwnu3F6H"
   },
   "source": [
    "operators:\n",
    "1. arithmetic operator\n",
    "\n",
    "2. assignment operator\n",
    "\n",
    "3. comparison operator\n",
    "\n",
    "4. logical operator\n",
    "\n",
    "5. identity  operator\n",
    "\n",
    "6. membership operator\n",
    "\n",
    "7. bitwise  operator"
   ]
  },
  {
   "cell_type": "markdown",
   "metadata": {
    "id": "Zz2bL2d737mQ"
   },
   "source": [
    "arithmectic operator\n",
    "1.add, sub, mul, division\n",
    "\n",
    "modulus, exponetiation, floor division\n",
    "\n",
    "%,**, //"
   ]
  },
  {
   "cell_type": "code",
   "execution_count": 27,
   "metadata": {
    "colab": {
     "base_uri": "https://localhost:8080/"
    },
    "id": "oIkthtkO4NZT",
    "outputId": "a26ca151-e61b-4c44-d8c2-415c1731de06"
   },
   "outputs": [
    {
     "name": "stdout",
     "output_type": "stream",
     "text": [
      "enter the value of a=17\n",
      "enter the value of b=5\n",
      "2\n",
      "8\n"
     ]
    }
   ],
   "source": [
    "\n",
    "a=int(input(\"enter the value of a=\"))\n",
    "b=int(input(\"enter the value of b=\"))\n",
    "c=a%b\n",
    "print(c)"
   ]
  },
  {
   "cell_type": "code",
   "execution_count": 28,
   "metadata": {
    "colab": {
     "base_uri": "https://localhost:8080/"
    },
    "id": "1gJalY0j5I1e",
    "outputId": "2d42fe2c-b0e3-43ac-f69f-645f6137ca04"
   },
   "outputs": [
    {
     "name": "stdout",
     "output_type": "stream",
     "text": [
      "enter the value of c=3\n",
      "enter the value of d=3\n",
      "27\n"
     ]
    }
   ],
   "source": [
    "c=int(input(\"enter the value of c=\")) #(power of any number )\n",
    "d=int(input(\"enter the value of d=\"))\n",
    "e=c**d\n",
    "print(e)"
   ]
  },
  {
   "cell_type": "markdown",
   "metadata": {
    "id": "uFw4WqWh5qXu"
   },
   "source": [
    "floor divisin"
   ]
  },
  {
   "cell_type": "code",
   "execution_count": 32,
   "metadata": {
    "colab": {
     "base_uri": "https://localhost:8080/"
    },
    "id": "3mqEx35u5nRl",
    "outputId": "6443f875-a3c0-44a9-b867-8cfb9d2d0181"
   },
   "outputs": [
    {
     "name": "stdout",
     "output_type": "stream",
     "text": [
      "enter the value of a=24\n",
      "enter the value of b=5\n",
      "4\n"
     ]
    }
   ],
   "source": [
    "a=int(input(\"enter the value of a=\"))\n",
    "b=int(input(\"enter the value of b=\"))\n",
    "c=a//b\n",
    "print(c)"
   ]
  },
  {
   "cell_type": "markdown",
   "metadata": {
    "id": "U6YWKCYE7ouJ"
   },
   "source": [
    "assignments opeartor:\n",
    "\n",
    "a=10\n",
    "a+=5     a=a+5\n",
    "\n",
    "\n",
    "\n"
   ]
  },
  {
   "cell_type": "code",
   "execution_count": 36,
   "metadata": {
    "colab": {
     "base_uri": "https://localhost:8080/"
    },
    "id": "l9Bgr5HB7n8Z",
    "outputId": "a330dcf3-503c-4119-8809-37c08f5038fc"
   },
   "outputs": [
    {
     "name": "stdout",
     "output_type": "stream",
     "text": [
      "0\n"
     ]
    }
   ],
   "source": [
    "a=10\n",
    "a%=5\n",
    "print(a)\n",
    "\n",
    "\n",
    "\n",
    "\n"
   ]
  },
  {
   "cell_type": "markdown",
   "metadata": {
    "id": "oXPYm8Yh9m1R"
   },
   "source": [
    "a&=4  a=a&4\n",
    "\n",
    "a=6.        110=6\n",
    "            100=4\n",
    "\n",
    "\n",
    "            ---\n",
    "            100\n",
    "\n",
    "\n"
   ]
  },
  {
   "cell_type": "code",
   "execution_count": 37,
   "metadata": {
    "colab": {
     "base_uri": "https://localhost:8080/"
    },
    "id": "5KwfwYRG9X_U",
    "outputId": "c995ac4b-0af2-42a9-a25a-00f7aaeab2dc"
   },
   "outputs": [
    {
     "name": "stdout",
     "output_type": "stream",
     "text": [
      "4\n"
     ]
    }
   ],
   "source": [
    "a=6\n",
    "\n",
    "a&=4\n",
    "\n",
    "print(a)"
   ]
  },
  {
   "cell_type": "code",
   "execution_count": 38,
   "metadata": {
    "colab": {
     "base_uri": "https://localhost:8080/"
    },
    "id": "BMqqY7aZ-mMv",
    "outputId": "7d178fd7-5048-4852-8f11-5eb56d54f8f8"
   },
   "outputs": [
    {
     "name": "stdout",
     "output_type": "stream",
     "text": [
      "4\n"
     ]
    }
   ],
   "source": [
    "a=6&4\n",
    "print(a)"
   ]
  }
 ],
 "metadata": {
  "colab": {
   "provenance": []
  },
  "kernelspec": {
   "display_name": "Python 3 (ipykernel)",
   "language": "python",
   "name": "python3"
  },
  "language_info": {
   "codemirror_mode": {
    "name": "ipython",
    "version": 3
   },
   "file_extension": ".py",
   "mimetype": "text/x-python",
   "name": "python",
   "nbconvert_exporter": "python",
   "pygments_lexer": "ipython3",
   "version": "3.12.4"
  }
 },
 "nbformat": 4,
 "nbformat_minor": 4
}
