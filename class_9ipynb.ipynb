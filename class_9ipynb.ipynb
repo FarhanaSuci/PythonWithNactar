{
 "cells": [
  {
   "cell_type": "code",
   "execution_count": 9,
   "metadata": {
    "colab": {
     "base_uri": "https://localhost:8080/"
    },
    "id": "HHLGfSJdnjJw",
    "outputId": "d3e1be4d-db01-4a4e-f278-9cc176368686"
   },
   "outputs": [
    {
     "name": "stdout",
     "output_type": "stream",
     "text": [
      "0\n",
      "1\n",
      "2\n",
      "3\n",
      "4\n",
      "10 11 12 13 14 15 16 17 18 19 \n",
      "1 4 7 "
     ]
    }
   ],
   "source": [
    "for num in range(5):\n",
    "   print (num, end=' ')\n",
    "\n",
    "\n",
    "\n",
    "for num in range(10, 20):\n",
    "   print (num, end=' ')\n",
    "\n",
    "\n",
    "print()\n",
    "\n",
    "\n",
    "for num in range(1, 10, 3):\n",
    "   print (num, end=' ')\n"
   ]
  },
  {
   "cell_type": "code",
   "execution_count": 14,
   "metadata": {
    "colab": {
     "base_uri": "https://localhost:8080/"
    },
    "id": "vtXZUrctwTSu",
    "outputId": "b8686f19-1ae3-4d44-89f1-44cc9f06a5bc"
   },
   "outputs": [
    {
     "name": "stdout",
     "output_type": "stream",
     "text": [
      "2 "
     ]
    }
   ],
   "source": [
    "for num in range(2, 30,num**num ):\n",
    "   print (num, end=' ')\n",
    "\n"
   ]
  },
  {
   "cell_type": "code",
   "execution_count": 15,
   "metadata": {
    "colab": {
     "base_uri": "https://localhost:8080/"
    },
    "id": "a7YSoFnez0wt",
    "outputId": "75d5f4ee-24e7-4cad-a43c-6194e9776696"
   },
   "outputs": [
    {
     "name": "stdout",
     "output_type": "stream",
     "text": [
      "2 6 10 14 18 22 26 "
     ]
    }
   ],
   "source": [
    "for num in range(2, 30, num**num):\n",
    "   print (num, end=' ')"
   ]
  },
  {
   "cell_type": "code",
   "execution_count": 17,
   "metadata": {
    "colab": {
     "base_uri": "https://localhost:8080/"
    },
    "id": "B7-NUp9l0QI_",
    "outputId": "e84c6206-b73d-4467-83ff-43ae95d31058"
   },
   "outputs": [
    {
     "name": "stdout",
     "output_type": "stream",
     "text": [
      "10 20 30 40 50 60 70 80 92 3 4 5 6 "
     ]
    }
   ],
   "source": [
    "tpl=(10,20,30,40,50,60,70,80,92,3,4,5,6)\n",
    "\n",
    "for i in tpl:\n",
    "  print(i, end=\" \")"
   ]
  },
  {
   "cell_type": "code",
   "execution_count": 27,
   "metadata": {
    "colab": {
     "base_uri": "https://localhost:8080/"
    },
    "id": "xC-J5OHJ0oGB",
    "outputId": "743cb2a7-42e2-4430-e312-13c9dde07d6e"
   },
   "outputs": [
    {
     "name": "stdout",
     "output_type": "stream",
     "text": [
      "def\n",
      "abc\n",
      "def\n",
      "ejhwf\n",
      "34\n",
      "ejkr\n",
      "['abc', 'def', 'ejhwf', '34', 'ejkr']\n"
     ]
    }
   ],
   "source": [
    "lst=['abc','def','ejhwf','34','ejkr']\n",
    "\n",
    "print(lst[1])\n",
    "\n",
    "for i in lst:\n",
    "  print(i)\n",
    "\n",
    "print(lst)"
   ]
  },
  {
   "cell_type": "code",
   "execution_count": 35,
   "metadata": {
    "colab": {
     "base_uri": "https://localhost:8080/"
    },
    "id": "6LrHB-TE1ZbV",
    "outputId": "a7136fd5-e772-42c6-ae78-f03b020d9aea"
   },
   "outputs": [
    {
     "name": "stdout",
     "output_type": "stream",
     "text": [
      "element not found\n"
     ]
    }
   ],
   "source": [
    "\n",
    "def ln(arr, target):\n",
    "   for index, value in enumerate(arr):\n",
    "     if value==target:\n",
    "       return index\n",
    "   return -1\n",
    "\n",
    "arr=[10,12,34,56,78,34,56,89,90,100,78]\n",
    "lst=[45,56,78,8,90,23,45]\n",
    "target=124\n",
    "result=ln(lst,target)\n",
    "\n",
    "if result ==-1:\n",
    "  print(f\"element found at index {result} \")\n",
    "else:\n",
    "  print(\"element not found\")\n",
    "\n",
    "\n"
   ]
  },
  {
   "cell_type": "code",
   "execution_count": 40,
   "metadata": {
    "colab": {
     "base_uri": "https://localhost:8080/"
    },
    "id": "ep9yv2zf7y-5",
    "outputId": "fb9805cd-d072-4750-efad-a7c864eeb93a"
   },
   "outputs": [
    {
     "name": "stdout",
     "output_type": "stream",
     "text": [
      "6\n",
      "<class 'list'>\n",
      "298\n"
     ]
    }
   ],
   "source": [
    "\n",
    "\n",
    "lst=[12,24,56,67,89,50]\n",
    "print(len(lst))\n",
    "\n",
    "print(type(lst))\n",
    "\n",
    "print(sum(lst))\n"
   ]
  },
  {
   "cell_type": "code",
   "execution_count": 42,
   "metadata": {
    "colab": {
     "base_uri": "https://localhost:8080/"
    },
    "id": "XrD9lxR8_fZg",
    "outputId": "0c2dc48b-8287-47ba-f332-e0f714cf0e7a"
   },
   "outputs": [
    {
     "name": "stdout",
     "output_type": "stream",
     "text": [
      "[('A', 1), ('B', 2), ('C', 3)]\n"
     ]
    }
   ],
   "source": [
    "l1=[\"A\",\"B\",\"C\"]\n",
    "l2=[1,2,3]\n",
    "\n",
    "combine=list(zip(l1,l2))\n",
    "print(combine)\n"
   ]
  },
  {
   "cell_type": "code",
   "execution_count": 57,
   "metadata": {
    "colab": {
     "base_uri": "https://localhost:8080/"
    },
    "id": "Hn-dgGkzAzTe",
    "outputId": "07adea52-9b55-4bf4-cfbb-752e64a70972"
   },
   "outputs": [
    {
     "name": "stdout",
     "output_type": "stream",
     "text": [
      "hello\n"
     ]
    }
   ],
   "source": [
    "def fn():\n",
    "  print(\"hello\")\n",
    "\n",
    "\n",
    "fn()\n"
   ]
  },
  {
   "cell_type": "code",
   "execution_count": 64,
   "metadata": {
    "colab": {
     "base_uri": "https://localhost:8080/"
    },
    "id": "rukLfVtbCvvM",
    "outputId": "ffcc3d3f-59a3-4076-b269-9d3d4f648bf9"
   },
   "outputs": [
    {
     "name": "stdout",
     "output_type": "stream",
     "text": [
      "jhergkehrge\n",
      "hh\n",
      "2\n"
     ]
    }
   ],
   "source": [
    "def fn(x):\n",
    "\n",
    "  print(\"jhergkehrge\")\n",
    "  print(x)\n",
    "\n",
    "\n",
    "x=\"hh\"\n",
    "\n",
    "f=fn(\"hh\")\n",
    "\n",
    "print(f)"
   ]
  },
  {
   "cell_type": "code",
   "execution_count": 67,
   "metadata": {
    "colab": {
     "base_uri": "https://localhost:8080/"
    },
    "id": "XMSuxlImFTSy",
    "outputId": "2ec05225-2a64-4d9a-b314-75b6674fa7d7"
   },
   "outputs": [
    {
     "name": "stdout",
     "output_type": "stream",
     "text": [
      "square of the value is= 16\n"
     ]
    }
   ],
   "source": [
    "def square(x):\n",
    "  return x*x;\n",
    "\n",
    "print(\"square of the value is=\",square(4))"
   ]
  },
  {
   "cell_type": "markdown",
   "metadata": {
    "id": "HtEf4RS09V3f"
   },
   "source": [
    "max\n",
    "\n",
    "min"
   ]
  },
  {
   "cell_type": "code",
   "execution_count": 32,
   "metadata": {
    "colab": {
     "base_uri": "https://localhost:8080/"
    },
    "id": "p-Q4qssg4TR_",
    "outputId": "0fea1ebe-ed76-4eee-c7a1-10ebcef2d3ea"
   },
   "outputs": [
    {
     "name": "stdout",
     "output_type": "stream",
     "text": [
      "0 1\n",
      "1 2\n",
      "2 4\n",
      "3 7\n",
      "4 8\n",
      "5 9\n"
     ]
    }
   ],
   "source": [
    "f=[1,2,4,7,8,9]\n",
    "for x,y in enumerate(f):\n",
    "  print(x,y)\n"
   ]
  },
  {
   "cell_type": "code",
   "execution_count": null,
   "metadata": {
    "id": "v8sf29oZ6V5B"
   },
   "outputs": [],
   "source": []
  }
 ],
 "metadata": {
  "colab": {
   "provenance": []
  },
  "kernelspec": {
   "display_name": "Python 3 (ipykernel)",
   "language": "python",
   "name": "python3"
  },
  "language_info": {
   "codemirror_mode": {
    "name": "ipython",
    "version": 3
   },
   "file_extension": ".py",
   "mimetype": "text/x-python",
   "name": "python",
   "nbconvert_exporter": "python",
   "pygments_lexer": "ipython3",
   "version": "3.12.4"
  }
 },
 "nbformat": 4,
 "nbformat_minor": 4
}
