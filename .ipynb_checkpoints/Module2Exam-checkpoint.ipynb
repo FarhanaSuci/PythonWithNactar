{
 "cells": [
  {
   "cell_type": "code",
   "execution_count": 18,
   "id": "8170adaa-80e9-45eb-8919-a52f9f04a471",
   "metadata": {},
   "outputs": [
    {
     "name": "stdout",
     "output_type": "stream",
     "text": [
      "[(1, 9), (2, 8), (3, 7), (4, 6), (6, 4), (5, 5)]\n"
     ]
    }
   ],
   "source": [
    "def showOutput(tuples,targetSum):\n",
    "    outputs=[]\n",
    "    for firstDigit, secondDigit in tuples:\n",
    "        if firstDigit+secondDigit == targetSum:\n",
    "            outputs.append((firstDigit,secondDigit))\n",
    "    return outputs\n",
    "tuples=[(1,2),(2,3),(4,5),(6,7),(8,9),(1,9),(2,8),(3,7),(4,6),(6,4),(5,5)]\n",
    "targetSum=10\n",
    "result=showOutput(tuples,targetSum)\n",
    "print(result)\n"
   ]
  },
  {
   "cell_type": "code",
   "execution_count": 33,
   "id": "34d03cd3-fcb7-4dd2-b9e2-e95c76cd1325",
   "metadata": {},
   "outputs": [
    {
     "name": "stdin",
     "output_type": "stream",
     "text": [
      "Please enter the dimension of  square array:  3\n"
     ]
    },
    {
     "name": "stdout",
     "output_type": "stream",
     "text": [
      "Enter array elements :\n"
     ]
    },
    {
     "name": "stdin",
     "output_type": "stream",
     "text": [
      " 1\n",
      " 2\n",
      " 3\n",
      " 4\n",
      " 5\n",
      " 6\n",
      " 7\n",
      " 8\n",
      " 9\n"
     ]
    },
    {
     "name": "stdout",
     "output_type": "stream",
     "text": [
      "[[1, 2, 3], [4, 5, 6], [7, 8, 9]]\n",
      "\n",
      "The array is:\n",
      "[[1 2 3]\n",
      " [4 5 6]\n",
      " [7 8 9]]\n",
      "\n",
      "The sum of the diagonal elements is: 15\n"
     ]
    }
   ],
   "source": [
    "import numpy \n",
    "\n",
    "def diagonalSum(arr):\n",
    "    \n",
    "    diagonalSum = 0\n",
    "    for i in range(len(arr)):\n",
    "        diagonalSum += arr[i, i]\n",
    "    return diagonalSum\n",
    "n = int(input(\"Please enter the dimension of  square array: \"))\n",
    "arrayElements = []\n",
    "print(\"Enter array elements :\")\n",
    "for i in range(n):\n",
    "    listElements=[]\n",
    "    for j in range(n):\n",
    "        a=int(input())\n",
    "        listElements.append(a)\n",
    "    arrayElements.append(listElements)\n",
    "        \n",
    "\n",
    "print(arrayElements)\n",
    "arr = numpy.array(arrayElements)\n",
    "print(\"\\nThe array is:\")\n",
    "print(arr)\n",
    "result = diagonalSum(arr)\n",
    "print(f\"\\nThe sum of the diagonal elements is: {result}\")"
   ]
  },
  {
   "cell_type": "code",
   "execution_count": null,
   "id": "71af52cb-a433-4974-879c-d011d5cb7a59",
   "metadata": {},
   "outputs": [],
   "source": [
    "f\n"
   ]
  },
  {
   "cell_type": "code",
   "execution_count": null,
   "id": "d8f1490b-a5f5-4695-9e79-d56c5ecc1926",
   "metadata": {},
   "outputs": [],
   "source": []
  }
 ],
 "metadata": {
  "kernelspec": {
   "display_name": "Python 3 (ipykernel)",
   "language": "python",
   "name": "python3"
  },
  "language_info": {
   "codemirror_mode": {
    "name": "ipython",
    "version": 3
   },
   "file_extension": ".py",
   "mimetype": "text/x-python",
   "name": "python",
   "nbconvert_exporter": "python",
   "pygments_lexer": "ipython3",
   "version": "3.12.4"
  }
 },
 "nbformat": 4,
 "nbformat_minor": 5
}
