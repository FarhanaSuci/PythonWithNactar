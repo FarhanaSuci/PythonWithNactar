{
  "nbformat": 4,
  "nbformat_minor": 0,
  "metadata": {
    "colab": {
      "provenance": []
    },
    "kernelspec": {
      "name": "python3",
      "display_name": "Python 3"
    },
    "language_info": {
      "name": "python"
    }
  },
  "cells": [
    {
      "cell_type": "markdown",
      "source": [
        "1.list acess\n",
        "2. chnage item\n",
        "3. add item\n",
        "4.remove\n",
        "5. list lopping\n",
        "6.sort\n",
        "7.copy list\n",
        "8.join list\n",
        "9.list comprehesion\n"
      ],
      "metadata": {
        "id": "OdI1qq_nAJ-q"
      }
    },
    {
      "cell_type": "markdown",
      "source": [
        "access list\n",
        "\n",
        "1.indexing\n",
        "\n",
        "2.negetive indexing\n",
        "\n",
        "3. slicing opearator"
      ],
      "metadata": {
        "id": "P_G8rhQBBMI3"
      }
    },
    {
      "cell_type": "code",
      "execution_count": 3,
      "metadata": {
        "colab": {
          "base_uri": "https://localhost:8080/"
        },
        "id": "sYTY6AzXAB36",
        "outputId": "7f4f134b-72d0-4dc4-bf82-ac92edf9fda3"
      },
      "outputs": [
        {
          "output_type": "stream",
          "name": "stdout",
          "text": [
            "print list item on index 3= oysi\n"
          ]
        }
      ],
      "source": [
        "#access indexing\n",
        "lst1=[3,5,6,7,8,9,11,34]\n",
        "lst2=['shafiqul','sirajul','ajoy barura','oysi']\n",
        "list3=[3,5,6,'thisvalue is string']\n",
        "print(\"print list item on index 3=\",lst2[3])\n",
        "print(\"print list item on index 3=\",lst2[3])\n"
      ]
    },
    {
      "cell_type": "code",
      "source": [
        "#access with negetive\n",
        "lst1=[3,5,6,7,8,9,11,34]\n",
        "lst2=['shafiqul','sirajul','ajoy barura','oysi']\n",
        "print(\"print list item on index =\",lst1[-3])"
      ],
      "metadata": {
        "colab": {
          "base_uri": "https://localhost:8080/"
        },
        "id": "WbP1hsUvCMFb",
        "outputId": "6b18d1d4-dbaa-4611-bc8e-5c4d32dfbe52"
      },
      "execution_count": 6,
      "outputs": [
        {
          "output_type": "stream",
          "name": "stdout",
          "text": [
            "print list item on index = 9\n"
          ]
        }
      ]
    },
    {
      "cell_type": "markdown",
      "source": [
        ":"
      ],
      "metadata": {
        "id": "rIW1MP5AD29T"
      }
    },
    {
      "cell_type": "code",
      "source": [
        "#access with sliceer\n",
        "lst1=[3,5,6,7,8,9,11,34]\n",
        "lst2=['shafiqul','sirajul','ajoy barura','oysi']\n",
        "print(\"print list item on index =\",lst1[1:])\n",
        "print(\"print list item on index =\",lst1[1:4])\n",
        "print(\"print list item on index =\",lst1[:4])\n",
        "print(\"print list item on index =\",lst1[:])\n",
        "print(\"print list item on index =\",lst1[3:6])\n",
        "\n",
        "print(\"print list item on index =\",lst1[-1:])"
      ],
      "metadata": {
        "colab": {
          "base_uri": "https://localhost:8080/"
        },
        "id": "IzDSMsImDv7F",
        "outputId": "142ea30d-215f-48a6-f3aa-eee543d8d542"
      },
      "execution_count": 17,
      "outputs": [
        {
          "output_type": "stream",
          "name": "stdout",
          "text": [
            "print list item on index = [5, 6, 7, 8, 9, 11, 34]\n",
            "print list item on index = [5, 6, 7]\n",
            "print list item on index = [3, 5, 6, 7]\n",
            "print list item on index = [3, 5, 6, 7, 8, 9, 11, 34]\n",
            "print list item on index = [7, 8, 9]\n",
            "print list item on index = [34]\n"
          ]
        }
      ]
    },
    {
      "cell_type": "code",
      "source": [
        "lst1=[3,5,6,7,8,9,11,34]\n",
        "d=['sirajul','ajoy barura','oysi','kkk','jjjj']\n",
        "\n",
        "\n",
        "lst1[2:5]=d\n",
        "print(lst1)\n",
        "\n"
      ],
      "metadata": {
        "colab": {
          "base_uri": "https://localhost:8080/"
        },
        "id": "WOdjgpd5HuQU",
        "outputId": "44675d7c-1993-4e71-9703-8d33e926dbc4"
      },
      "execution_count": 27,
      "outputs": [
        {
          "output_type": "stream",
          "name": "stdout",
          "text": [
            "[3, 5, 'sirajul', 'ajoy barura', 'oysi', 'kkk', 'jjjj', 9, 11, 34]\n"
          ]
        }
      ]
    },
    {
      "cell_type": "code",
      "source": [
        "#slicing opearator\n",
        "lst1=[3,5,6,7,8]\n",
        "lst2=['shafiqul', 'sirajul', 'ajoy barura']\n",
        "\n",
        "print(lst1)\n",
        "list3=lst1+lst2\n",
        "print(list3)"
      ],
      "metadata": {
        "colab": {
          "base_uri": "https://localhost:8080/"
        },
        "id": "_EwMPZSWEzwC",
        "outputId": "e538664c-08b9-49d0-d80e-c43b38d4a788"
      },
      "execution_count": 31,
      "outputs": [
        {
          "output_type": "stream",
          "name": "stdout",
          "text": [
            "[3, 5, 6, 7, 8]\n",
            "[3, 5, 6, 7, 8, 'shafiqul', 'sirajul', 'ajoy barura']\n"
          ]
        }
      ]
    },
    {
      "cell_type": "markdown",
      "source": [
        "adding item using method:\n",
        "1.append()\n",
        "2.insert()\n",
        "3.extend()"
      ],
      "metadata": {
        "id": "0dngtoPTM8uw"
      }
    },
    {
      "cell_type": "code",
      "source": [
        "lst1=[3,5,6,7,8]\n",
        "lst2=['shafiqul', 'sirajul', 'ajoy barura']\n",
        "lst2.append('hello')\n",
        "print(lst2)\n",
        "\n",
        "lst1.insert(3,90)#insert(index,value)\n",
        "print(lst1)\n",
        "\n",
        "lst1.extend(lst2)\n",
        "print(lst1)"
      ],
      "metadata": {
        "colab": {
          "base_uri": "https://localhost:8080/"
        },
        "id": "pIbQUqagN2fX",
        "outputId": "6e51f2c7-cdf3-4f95-d228-d2eb57ac81db"
      },
      "execution_count": 36,
      "outputs": [
        {
          "output_type": "stream",
          "name": "stdout",
          "text": [
            "['shafiqul', 'sirajul', 'ajoy barura', 'hello']\n",
            "[3, 5, 6, 90, 7, 8]\n",
            "[3, 5, 6, 90, 7, 8, 'shafiqul', 'sirajul', 'ajoy barura', 'hello']\n"
          ]
        }
      ]
    },
    {
      "cell_type": "markdown",
      "source": [
        "removing item from list:\n",
        "1.remove() # lst1.remove(), lst1.remove('rghrj')\n",
        "\n",
        "\n",
        "2.pop() method  #pop() ,  pop(index)\n",
        "\n",
        "\n",
        "3.clear() method  # lst1.clear()\n",
        "\n",
        "\n",
        "4.del keyword #  del lst[index]\n"
      ],
      "metadata": {
        "id": "EDErwGKWPUgz"
      }
    },
    {
      "cell_type": "code",
      "source": [
        "lst1=[3,5,6,7,8]\n",
        "lst2=['shafiqul', 'sirajul', 'ajoy barura']\n",
        "print(lst1)\n",
        "print(lst2)\n",
        "lst1.remove(7)\n",
        "print(\"after remove=\",lst1)\n",
        "lst1=[3,5,6,7,8]\n",
        "\n",
        "lst1.pop()\n",
        "print(\"after pop=\",lst1)\n",
        "lst1.clear()\n",
        "print(lst1)\n",
        "del lst2[1:3]\n",
        "print(lst2)"
      ],
      "metadata": {
        "colab": {
          "base_uri": "https://localhost:8080/"
        },
        "id": "0IyJDxl1PU2o",
        "outputId": "8923d593-b9e3-4ca1-b306-f105e66279c4"
      },
      "execution_count": 51,
      "outputs": [
        {
          "output_type": "stream",
          "name": "stdout",
          "text": [
            "[3, 5, 6, 7, 8]\n",
            "['shafiqul', 'sirajul', 'ajoy barura']\n",
            "after remove= [3, 5, 6, 8]\n",
            "after pop= [3, 5, 6, 7]\n",
            "[]\n",
            "['shafiqul']\n"
          ]
        }
      ]
    },
    {
      "cell_type": "code",
      "source": [
        "lst1=[3,5,6,7,8]\n",
        "lst2=['shafiqul', 'sirajul', 'ajoy barura']\n",
        "del lst1[2:4]\n",
        "print(lst1)\n",
        "del lst2[:2]\n",
        "print(lst2)"
      ],
      "metadata": {
        "colab": {
          "base_uri": "https://localhost:8080/"
        },
        "id": "tJ4Kt86fVKGz",
        "outputId": "32b2678d-ec3e-4632-b8a8-2ff16eaa0464"
      },
      "execution_count": 59,
      "outputs": [
        {
          "output_type": "stream",
          "name": "stdout",
          "text": [
            "[3, 5, 8]\n",
            "['ajoy barura']\n"
          ]
        }
      ]
    },
    {
      "cell_type": "markdown",
      "source": [],
      "metadata": {
        "id": "oXm26QxPTaHR"
      }
    }
  ]
}