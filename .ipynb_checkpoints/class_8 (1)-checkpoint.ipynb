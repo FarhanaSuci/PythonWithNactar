{
  "nbformat": 4,
  "nbformat_minor": 0,
  "metadata": {
    "colab": {
      "provenance": []
    },
    "kernelspec": {
      "name": "python3",
      "display_name": "Python 3"
    },
    "language_info": {
      "name": "python"
    }
  },
  "cells": [
    {
      "cell_type": "markdown",
      "source": [
        "1. braek and continue with while and for\n",
        "2. for loop details\n",
        "\n",
        "  0                     100"
      ],
      "metadata": {
        "id": "QV4S97w4Kk1t"
      }
    },
    {
      "cell_type": "code",
      "execution_count": 10,
      "metadata": {
        "colab": {
          "base_uri": "https://localhost:8080/"
        },
        "collapsed": true,
        "id": "k5gUelc1HTDo",
        "outputId": "1286361e-6c4d-42b0-913b-cc9a9abedb6b"
      },
      "outputs": [
        {
          "output_type": "stream",
          "name": "stdout",
          "text": [
            "1 2 3 4 6 7 8 9 10 "
          ]
        }
      ],
      "source": [
        "i=0\n",
        "\n",
        "while i<10:#starting point\n",
        "\n",
        "   i=i+1#ibcrements statement\n",
        "   if i==5:\n",
        "     continue\n",
        "   print(i,end=\" \")"
      ]
    },
    {
      "cell_type": "code",
      "source": [
        "i=1\n",
        "while i<10:\n",
        "\n",
        "  if i==7:\n",
        "   break\n",
        "\n",
        "  print(i,end=\" \")\n",
        "  i=i+1"
      ],
      "metadata": {
        "colab": {
          "base_uri": "https://localhost:8080/"
        },
        "id": "1YTO7w1nU9TO",
        "outputId": "c8c94b64-a748-43d3-8836-19d9d0633527"
      },
      "execution_count": 16,
      "outputs": [
        {
          "output_type": "stream",
          "name": "stdout",
          "text": [
            "1 2 3 4 5 6 "
          ]
        }
      ]
    },
    {
      "cell_type": "code",
      "source": [
        "i=0\n",
        "while i<=10:\n",
        "  i=i+5\n",
        "  if i==7:\n",
        "    continue\n",
        "  print(i)"
      ],
      "metadata": {
        "colab": {
          "base_uri": "https://localhost:8080/"
        },
        "id": "9U95N6bJVTRA",
        "outputId": "7f3451db-8977-473d-c019-42c7c2d4cfd9"
      },
      "execution_count": 15,
      "outputs": [
        {
          "output_type": "stream",
          "name": "stdout",
          "text": [
            "5\n",
            "10\n",
            "15\n"
          ]
        }
      ]
    },
    {
      "cell_type": "code",
      "source": [
        "s=\"NACTAR\"\n",
        "for i in range(5):\n",
        "  print(i)\n",
        "  print(s)"
      ],
      "metadata": {
        "colab": {
          "base_uri": "https://localhost:8080/"
        },
        "id": "HyS3-ytWXcXZ",
        "outputId": "7cf2b366-6a31-4005-b5be-a206085eff44"
      },
      "execution_count": 25,
      "outputs": [
        {
          "output_type": "stream",
          "name": "stdout",
          "text": [
            "0\n",
            "NACTAR\n",
            "1\n",
            "NACTAR\n",
            "2\n",
            "NACTAR\n",
            "3\n",
            "NACTAR\n",
            "4\n",
            "NACTAR\n"
          ]
        }
      ]
    },
    {
      "cell_type": "code",
      "source": [
        "from os import posix_spawn\n",
        "s=\"ejrhbgelrhgiu\"\n",
        "for i in \"NACTAR\":\n",
        "  #print(i)\n",
        "  pass\n",
        "\n",
        "s=\"NACTAR\"\n",
        "\n",
        "s=s.replace('C','t')\n",
        "s=s.replace('R','C')\n",
        "s=s.replace('t','R')\n",
        "print(s)"
      ],
      "metadata": {
        "colab": {
          "base_uri": "https://localhost:8080/"
        },
        "id": "mMFHNMEiaGlg",
        "outputId": "59739a98-0876-40db-d85d-e3a061e8cb4b"
      },
      "execution_count": 39,
      "outputs": [
        {
          "output_type": "stream",
          "name": "stdout",
          "text": [
            "NARTAC\n"
          ]
        }
      ]
    },
    {
      "cell_type": "code",
      "source": [
        "s='''ekjrghelirughelruighe\n",
        "rtgjerhgliuerhgiu4\n",
        "rtgrjetg;oierlguhelg\n",
        "etrgkjerhglieuh'''\n",
        "\n",
        "for i in s:\n",
        "\n",
        "  if i in 'aeiou':\n",
        "    print(i,end=\" \")\n",
        "\n",
        "\n"
      ],
      "metadata": {
        "colab": {
          "base_uri": "https://localhost:8080/"
        },
        "id": "jinwX3UXdCl3",
        "outputId": "5309fbb4-10bf-4159-9423-c139c74a1fd8"
      },
      "execution_count": 37,
      "outputs": [
        {
          "output_type": "stream",
          "name": "stdout",
          "text": [
            "e\n",
            "k\n",
            "j\n",
            "r\n",
            "g\n",
            "h\n",
            "e\n",
            "l\n",
            "i\n",
            "r\n",
            "u\n",
            "g\n",
            "h\n",
            "e\n",
            "l\n",
            "r\n",
            "u\n",
            "i\n",
            "g\n",
            "h\n",
            "e\n",
            "\n",
            "\n",
            "r\n",
            "t\n",
            "g\n",
            "j\n",
            "e\n",
            "r\n",
            "h\n",
            "g\n",
            "l\n",
            "i\n",
            "u\n",
            "e\n",
            "r\n",
            "h\n",
            "g\n",
            "i\n",
            "u\n",
            "4\n",
            "\n",
            "\n",
            "r\n",
            "t\n",
            "g\n",
            "r\n",
            "j\n",
            "e\n",
            "t\n",
            "g\n",
            ";\n",
            "o\n",
            "i\n",
            "e\n",
            "r\n",
            "l\n",
            "g\n",
            "u\n",
            "h\n",
            "e\n",
            "l\n",
            "g\n",
            "\n",
            "\n",
            "e\n",
            "t\n",
            "r\n",
            "g\n",
            "k\n",
            "j\n",
            "e\n",
            "r\n",
            "h\n",
            "g\n",
            "l\n",
            "i\n",
            "e\n",
            "u\n",
            "h\n"
          ]
        }
      ]
    },
    {
      "cell_type": "markdown",
      "source": [],
      "metadata": {
        "id": "battZpztidg7"
      }
    },
    {
      "cell_type": "code",
      "source": [
        "import builtins\n",
        "dir(builtins)"
      ],
      "metadata": {
        "colab": {
          "base_uri": "https://localhost:8080/"
        },
        "collapsed": true,
        "id": "HJiGpH0vgNyn",
        "outputId": "5d89b5dc-32fc-4a34-e4b8-0f9c474c9342"
      },
      "execution_count": 41,
      "outputs": [
        {
          "output_type": "execute_result",
          "data": {
            "text/plain": [
              "['ArithmeticError',\n",
              " 'AssertionError',\n",
              " 'AttributeError',\n",
              " 'BaseException',\n",
              " 'BlockingIOError',\n",
              " 'BrokenPipeError',\n",
              " 'BufferError',\n",
              " 'BytesWarning',\n",
              " 'ChildProcessError',\n",
              " 'ConnectionAbortedError',\n",
              " 'ConnectionError',\n",
              " 'ConnectionRefusedError',\n",
              " 'ConnectionResetError',\n",
              " 'DeprecationWarning',\n",
              " 'EOFError',\n",
              " 'Ellipsis',\n",
              " 'EncodingWarning',\n",
              " 'EnvironmentError',\n",
              " 'Exception',\n",
              " 'False',\n",
              " 'FileExistsError',\n",
              " 'FileNotFoundError',\n",
              " 'FloatingPointError',\n",
              " 'FutureWarning',\n",
              " 'GeneratorExit',\n",
              " 'IOError',\n",
              " 'ImportError',\n",
              " 'ImportWarning',\n",
              " 'IndentationError',\n",
              " 'IndexError',\n",
              " 'InterruptedError',\n",
              " 'IsADirectoryError',\n",
              " 'KeyError',\n",
              " 'KeyboardInterrupt',\n",
              " 'LookupError',\n",
              " 'MemoryError',\n",
              " 'ModuleNotFoundError',\n",
              " 'NameError',\n",
              " 'None',\n",
              " 'NotADirectoryError',\n",
              " 'NotImplemented',\n",
              " 'NotImplementedError',\n",
              " 'OSError',\n",
              " 'OverflowError',\n",
              " 'PendingDeprecationWarning',\n",
              " 'PermissionError',\n",
              " 'ProcessLookupError',\n",
              " 'RecursionError',\n",
              " 'ReferenceError',\n",
              " 'ResourceWarning',\n",
              " 'RuntimeError',\n",
              " 'RuntimeWarning',\n",
              " 'StopAsyncIteration',\n",
              " 'StopIteration',\n",
              " 'SyntaxError',\n",
              " 'SyntaxWarning',\n",
              " 'SystemError',\n",
              " 'SystemExit',\n",
              " 'TabError',\n",
              " 'TimeoutError',\n",
              " 'True',\n",
              " 'TypeError',\n",
              " 'UnboundLocalError',\n",
              " 'UnicodeDecodeError',\n",
              " 'UnicodeEncodeError',\n",
              " 'UnicodeError',\n",
              " 'UnicodeTranslateError',\n",
              " 'UnicodeWarning',\n",
              " 'UserWarning',\n",
              " 'ValueError',\n",
              " 'Warning',\n",
              " 'ZeroDivisionError',\n",
              " '__IPYTHON__',\n",
              " '__build_class__',\n",
              " '__debug__',\n",
              " '__doc__',\n",
              " '__import__',\n",
              " '__loader__',\n",
              " '__name__',\n",
              " '__package__',\n",
              " '__spec__',\n",
              " 'abs',\n",
              " 'aiter',\n",
              " 'all',\n",
              " 'anext',\n",
              " 'any',\n",
              " 'ascii',\n",
              " 'bin',\n",
              " 'bool',\n",
              " 'breakpoint',\n",
              " 'bytearray',\n",
              " 'bytes',\n",
              " 'callable',\n",
              " 'chr',\n",
              " 'classmethod',\n",
              " 'compile',\n",
              " 'complex',\n",
              " 'copyright',\n",
              " 'credits',\n",
              " 'delattr',\n",
              " 'dict',\n",
              " 'dir',\n",
              " 'display',\n",
              " 'divmod',\n",
              " 'enumerate',\n",
              " 'eval',\n",
              " 'exec',\n",
              " 'execfile',\n",
              " 'filter',\n",
              " 'float',\n",
              " 'format',\n",
              " 'frozenset',\n",
              " 'get_ipython',\n",
              " 'getattr',\n",
              " 'globals',\n",
              " 'hasattr',\n",
              " 'hash',\n",
              " 'help',\n",
              " 'hex',\n",
              " 'id',\n",
              " 'input',\n",
              " 'int',\n",
              " 'isinstance',\n",
              " 'issubclass',\n",
              " 'iter',\n",
              " 'len',\n",
              " 'license',\n",
              " 'list',\n",
              " 'locals',\n",
              " 'map',\n",
              " 'max',\n",
              " 'memoryview',\n",
              " 'min',\n",
              " 'next',\n",
              " 'object',\n",
              " 'oct',\n",
              " 'open',\n",
              " 'ord',\n",
              " 'pow',\n",
              " 'print',\n",
              " 'property',\n",
              " 'range',\n",
              " 'repr',\n",
              " 'reversed',\n",
              " 'round',\n",
              " 'runfile',\n",
              " 'set',\n",
              " 'setattr',\n",
              " 'slice',\n",
              " 'sorted',\n",
              " 'staticmethod',\n",
              " 'str',\n",
              " 'sum',\n",
              " 'super',\n",
              " 'tuple',\n",
              " 'type',\n",
              " 'vars',\n",
              " 'zip']"
            ]
          },
          "metadata": {},
          "execution_count": 41
        }
      ]
    },
    {
      "cell_type": "code",
      "source": [],
      "metadata": {
        "id": "ASoD5mAZZPHc"
      },
      "execution_count": null,
      "outputs": []
    }
  ]
}