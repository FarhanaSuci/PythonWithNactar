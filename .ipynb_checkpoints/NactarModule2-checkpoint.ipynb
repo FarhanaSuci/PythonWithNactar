{
 "cells": [
  {
   "cell_type": "markdown",
   "metadata": {
    "id": "5aYwWJTR9gKw"
   },
   "source": [
    "Module2"
   ]
  },
  {
   "cell_type": "code",
   "execution_count": null,
   "metadata": {
    "colab": {
     "base_uri": "https://localhost:8080/"
    },
    "id": "uavs08SJ9i4v",
    "outputId": "56922bfc-56f8-429c-a233-c89a76a4bd84"
   },
   "outputs": [
    {
     "name": "stdout",
     "output_type": "stream",
     "text": [
      "Hello Wold\n"
     ]
    }
   ],
   "source": [
    "\n",
    "print('Hello Wold')"
   ]
  },
  {
   "cell_type": "code",
   "execution_count": null,
   "metadata": {
    "colab": {
     "base_uri": "https://localhost:8080/"
    },
    "id": "9xilvcqVEp3J",
    "outputId": "771e5114-facc-4535-a516-b27c524626b8"
   },
   "outputs": [
    {
     "name": "stdout",
     "output_type": "stream",
     "text": [
      "16\n",
      "16\n"
     ]
    }
   ],
   "source": [
    "a=5\n",
    "b=2\n",
    "c=9\n",
    "y=a+b+c\n",
    "print(y)\n",
    "x=a+\\\n",
    "b+\\\n",
    "c\n",
    "print(x)"
   ]
  },
  {
   "cell_type": "code",
   "execution_count": null,
   "metadata": {
    "colab": {
     "base_uri": "https://localhost:8080/"
    },
    "id": "L-sD1yg3tLPh",
    "outputId": "5c9a25ff-e441-45da-8bdf-7a35bb0e6863"
   },
   "outputs": [
    {
     "name": "stdout",
     "output_type": "stream",
     "text": [
      "Nactar\n",
      "Nactar\n"
     ]
    }
   ],
   "source": [
    "a='Nactar'\n",
    "b=\"Nactar\"\n",
    "print(a)\n",
    "print(b)"
   ]
  },
  {
   "cell_type": "code",
   "execution_count": null,
   "metadata": {
    "colab": {
     "base_uri": "https://localhost:8080/"
    },
    "id": "7JashDl9tsGO",
    "outputId": "b1a8ce7c-4cb8-4916-8163-df5b48493062"
   },
   "outputs": [
    {
     "name": "stdout",
     "output_type": "stream",
     "text": [
      "\n",
      "Hi Suci! How are you.\n",
      "I'm your mom from Noakhali\n",
      "I want to talk to you.\n",
      "Why you always putting your phone off?\n",
      "       \n"
     ]
    }
   ],
   "source": [
    "suci=\"\"\"\n",
    "Hi Suci! How are you.\n",
    "I'm your mom from Noakhali\n",
    "I want to talk to you.\n",
    "Why you always putting your phone off?\n",
    "       \"\"\"\n",
    "\n",
    "print(suci)"
   ]
  },
  {
   "cell_type": "code",
   "execution_count": null,
   "metadata": {
    "colab": {
     "base_uri": "https://localhost:8080/"
    },
    "id": "TCPqVeJmwjtK",
    "outputId": "6a9c3898-0465-4406-902d-d6e54d29939e"
   },
   "outputs": [
    {
     "name": "stdout",
     "output_type": "stream",
     "text": [
      "Suci\n"
     ]
    }
   ],
   "source": [
    "'''hbhacvvdas\n",
    "hggsavdgngdhgjk\n",
    "hgagsgasdgvgjgj'''\n",
    "print('Suci')\n",
    "#Hi Hello Bye"
   ]
  },
  {
   "cell_type": "markdown",
   "metadata": {
    "id": "Gs6DwuBGUzTM"
   },
   "source": [
    "Module-3"
   ]
  },
  {
   "cell_type": "code",
   "execution_count": null,
   "metadata": {
    "colab": {
     "base_uri": "https://localhost:8080/"
    },
    "id": "6fHhqGP8U2Ay",
    "outputId": "b22d1a9f-18e2-4c3c-b179-524171c54ca0"
   },
   "outputs": [
    {
     "name": "stdout",
     "output_type": "stream",
     "text": [
      "10\n",
      "<class 'int'>\n",
      "<class 'bool'>\n",
      "<class 'float'>\n",
      "<class 'complex'>\n"
     ]
    }
   ],
   "source": [
    "a=10\n",
    "print(a)\n",
    "b=True\n",
    "c=10.5\n",
    "d=4+6j\n",
    "print(type(a))\n",
    "print(type(b))\n",
    "print(type(c))\n",
    "print(type(d))"
   ]
  },
  {
   "cell_type": "code",
   "execution_count": null,
   "metadata": {
    "colab": {
     "base_uri": "https://localhost:8080/"
    },
    "id": "qqwhaDCkVM7t",
    "outputId": "6dd09c9d-d5c0-4a4e-9dcf-897d6127a274"
   },
   "outputs": [
    {
     "name": "stdout",
     "output_type": "stream",
     "text": [
      "NACTAR\n",
      "<class 'str'>\n",
      "[2, 3.5, 9, 'Suci', 6]\n",
      "<class 'list'>\n",
      "(2, 3.5, 90, 'Suchi', 6)\n",
      "<class 'tuple'>\n",
      "range(0, 10)\n"
     ]
    }
   ],
   "source": [
    "s=\"NACTAR\"\n",
    "print(s)\n",
    "print(type(s))\n",
    "lst=[2,3.5,9,'Suci',6]\n",
    "print(lst)\n",
    "print(type(lst))\n",
    "tpl=(2,3.5,90,'Suchi',6)\n",
    "print(tpl)\n",
    "print(type(tpl))\n",
    "r=range(10)\n",
    "print(r)"
   ]
  },
  {
   "cell_type": "code",
   "execution_count": null,
   "metadata": {
    "colab": {
     "base_uri": "https://localhost:8080/"
    },
    "id": "U94M4pMuWfrE",
    "outputId": "857e1e25-7d0e-4b1c-ad21-e430aa1042d4"
   },
   "outputs": [
    {
     "name": "stdout",
     "output_type": "stream",
     "text": [
      "0\n",
      "1\n",
      "2\n",
      "3\n",
      "4\n",
      "5\n",
      "6\n",
      "7\n",
      "8\n",
      "9\n",
      "range(0, 10)\n",
      "<class 'range'>\n"
     ]
    }
   ],
   "source": [
    "r=range(10)\n",
    "for i in range(10):\n",
    "  print(i)\n",
    "print(r)\n",
    "print(type(r))"
   ]
  },
  {
   "cell_type": "markdown",
   "metadata": {
    "id": "clpC8re0mTEH"
   },
   "source": [
    "Module-4"
   ]
  },
  {
   "cell_type": "code",
   "execution_count": 1,
   "metadata": {
    "id": "xiygFXUFmXI5"
   },
   "outputs": [
    {
     "name": "stdout",
     "output_type": "stream",
     "text": [
      "40\n"
     ]
    }
   ],
   "source": [
    "a=15\n",
    "b=25\n",
    "print(a+b)"
   ]
  },
  {
   "cell_type": "code",
   "execution_count": 2,
   "metadata": {},
   "outputs": [
    {
     "name": "stdout",
     "output_type": "stream",
     "text": [
      "3\n",
      "2.0\n"
     ]
    }
   ],
   "source": [
    "a=int(3.5)\n",
    "b=float(2)\n",
    "print(a)\n",
    "print(b)"
   ]
  },
  {
   "cell_type": "code",
   "execution_count": 5,
   "metadata": {},
   "outputs": [
    {
     "name": "stdout",
     "output_type": "stream",
     "text": [
      "30.5\n",
      "<class 'float'>\n",
      "<class 'int'>\n"
     ]
    }
   ],
   "source": [
    "a=20\n",
    "b=10.5\n",
    "c=a+b\n",
    "print(c)\n",
    "print(type(c))\n",
    "print(type(a))"
   ]
  },
  {
   "cell_type": "code",
   "execution_count": 6,
   "metadata": {},
   "outputs": [
    {
     "name": "stdin",
     "output_type": "stream",
     "text": [
      "Enter the value of a : 10\n",
      "Enter the value of b 20\n"
     ]
    },
    {
     "name": "stdout",
     "output_type": "stream",
     "text": [
      "30.0\n"
     ]
    }
   ],
   "source": [
    "a=int(input(\"Enter the value of a :\"))\n",
    "b=float(input(\"Enter the value of b:\"))\n",
    "c=a+b\n",
    "print(c)"
   ]
  },
  {
   "cell_type": "code",
   "execution_count": 7,
   "metadata": {},
   "outputs": [
    {
     "name": "stdin",
     "output_type": "stream",
     "text": [
      "What is your name :  Farhana Akter Suchi\n"
     ]
    },
    {
     "name": "stdout",
     "output_type": "stream",
     "text": [
      "Farhana Akter Suchi\n"
     ]
    }
   ],
   "source": [
    "d=input(\"What is your name : \")\n",
    "print(d)"
   ]
  },
  {
   "cell_type": "code",
   "execution_count": 9,
   "metadata": {},
   "outputs": [
    {
     "name": "stdout",
     "output_type": "stream",
     "text": [
      "My name is:  Farhana Akter Suchi\n"
     ]
    }
   ],
   "source": [
    "print(\"My name is: \",d)"
   ]
  },
  {
   "cell_type": "code",
   "execution_count": 10,
   "metadata": {},
   "outputs": [
    {
     "name": "stdout",
     "output_type": "stream",
     "text": [
      "After swaping the values are : \n",
      "20\n",
      "10\n",
      "Hello Suci\n"
     ]
    }
   ],
   "source": [
    "a=10\n",
    "b=20\n",
    "c=\"Hello Suci\"\n",
    "a,d,b=b,a,c\n",
    "print(\"After swaping the values are : \")\n",
    "print(a)\n",
    "print(d)\n",
    "print(b)"
   ]
  },
  {
   "cell_type": "code",
   "execution_count": 12,
   "metadata": {},
   "outputs": [
    {
     "name": "stdout",
     "output_type": "stream",
     "text": [
      "20\n",
      "20\n",
      "20\n",
      "20\n"
     ]
    }
   ],
   "source": [
    "a=b=c=d=20\n",
    "print(a)\n",
    "print(b)\n",
    "print(c)\n",
    "print(d)"
   ]
  },
  {
   "cell_type": "code",
   "execution_count": 14,
   "metadata": {},
   "outputs": [
    {
     "name": "stdout",
     "output_type": "stream",
     "text": [
      "B190305001\n"
     ]
    }
   ],
   "source": [
    "Farhana_Akter_Suci=\"B190305001\"\n",
    "print(Farhana_Akter_Suci)"
   ]
  },
  {
   "cell_type": "markdown",
   "metadata": {},
   "source": [
    "operators:\r\n",
    "1.\r\n",
    "arithmetic operator2.\r\n",
    "\r\n",
    "assignment operat3.or\r\n",
    "\r\n",
    "comparison oper4.ator\r\n",
    "\r\n",
    "logical op5.erator\r\n",
    "\r\n",
    "identity 6.operator\r\n",
    "\r\n",
    "membershi7.p operator\r\n",
    "\r\n",
    "bitwise operator"
   ]
  },
  {
   "cell_type": "code",
   "execution_count": 16,
   "metadata": {},
   "outputs": [
    {
     "name": "stdin",
     "output_type": "stream",
     "text": [
      "Enter the value of a : 21\n",
      "Enter the value of b : 5\n"
     ]
    },
    {
     "name": "stdout",
     "output_type": "stream",
     "text": [
      "The reminder is:  1\n"
     ]
    }
   ],
   "source": [
    "a=int(input(\"Enter the value of a :\"))\n",
    "b=int(input(\"Enter the value of b :\"))\n",
    "c=a%b\n",
    "print(\"The reminder is: \",c)\n"
   ]
  },
  {
   "cell_type": "markdown",
   "metadata": {},
   "source": [
    "a=int(input(\"Enter the value of a : \"))\n",
    "b=int(input(\"Enter the value of b : \"))\n",
    "e=a**b\n",
    "print(\"The result is: \",e)"
   ]
  },
  {
   "cell_type": "markdown",
   "metadata": {},
   "source": [
    "Floor Division\n"
   ]
  },
  {
   "cell_type": "code",
   "execution_count": 21,
   "metadata": {},
   "outputs": [
    {
     "name": "stdin",
     "output_type": "stream",
     "text": [
      "Enter the value of a :  20\n",
      "Enter the value of b :  3\n"
     ]
    },
    {
     "name": "stdout",
     "output_type": "stream",
     "text": [
      "Floor Division is :  6\n"
     ]
    }
   ],
   "source": [
    "a=int(input(\"Enter the value of a : \"))\n",
    "b=int(input(\"Enter the value of b : \"))\n",
    "c=a//b\n",
    "print(\"Floor Division is : \",c)"
   ]
  },
  {
   "cell_type": "code",
   "execution_count": null,
   "metadata": {},
   "outputs": [],
   "source": []
  }
 ],
 "metadata": {
  "colab": {
   "provenance": []
  },
  "kernelspec": {
   "display_name": "Python 3 (ipykernel)",
   "language": "python",
   "name": "python3"
  },
  "language_info": {
   "codemirror_mode": {
    "name": "ipython",
    "version": 3
   },
   "file_extension": ".py",
   "mimetype": "text/x-python",
   "name": "python",
   "nbconvert_exporter": "python",
   "pygments_lexer": "ipython3",
   "version": "3.12.4"
  }
 },
 "nbformat": 4,
 "nbformat_minor": 4
}
