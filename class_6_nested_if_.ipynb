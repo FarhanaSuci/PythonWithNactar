{
 "cells": [
  {
   "cell_type": "markdown",
   "metadata": {
    "id": "Xh03JO_h8SZh"
   },
   "source": [
    "operators, if  and\n",
    " if\n",
    " else\n",
    "logical operator ,and or , not\n",
    "\n",
    " today's lecture\n",
    "\n",
    " 1. nested if\n",
    " 2. elif\n",
    " 3.nested else if"
   ]
  },
  {
   "cell_type": "code",
   "execution_count": null,
   "metadata": {
    "colab": {
     "base_uri": "https://localhost:8080/"
    },
    "id": "y0oIKq2370-x",
    "outputId": "6ea85bfa-2216-41ab-8d58-2f608985e81f"
   },
   "outputs": [
    {
     "name": "stdout",
     "output_type": "stream",
     "text": [
      "block is executed\n",
      "False\n",
      "True\n"
     ]
    }
   ],
   "source": [
    "a=15\n",
    "b=50\n",
    "c=35\n",
    "\n",
    "\n",
    "if not(a>b and a>c):\n",
    "  print(\"block is executed\")\n",
    "\n",
    "\n",
    "\n",
    "a=True\n",
    "b=False\n",
    "\n",
    "print(not(a))\n",
    "print(not(b))"
   ]
  },
  {
   "cell_type": "code",
   "execution_count": null,
   "metadata": {
    "colab": {
     "base_uri": "https://localhost:8080/"
    },
    "id": "xPPnELNb-zpX",
    "outputId": "112912f1-bae2-4462-f786-e44b07715466"
   },
   "outputs": [
    {
     "name": "stdout",
     "output_type": "stream",
     "text": [
      "ouside if block\n"
     ]
    }
   ],
   "source": [
    "a=15\n",
    "\n",
    "\n",
    "if not a<18:\n",
    "  print(\"inside if block\")\n",
    "  print(\"a is less than 18\")\n",
    "else:\n",
    "  print(\"ouside if block\")\n",
    "\n"
   ]
  },
  {
   "cell_type": "code",
   "execution_count": null,
   "metadata": {
    "colab": {
     "base_uri": "https://localhost:8080/"
    },
    "id": "nQQW5cuzCbeR",
    "outputId": "3e7d98b8-e7c9-4a84-a4e7-1aaf02fae665"
   },
   "outputs": [
    {
     "name": "stdout",
     "output_type": "stream",
     "text": [
      "no conditon is true above\n"
     ]
    }
   ],
   "source": [
    "a=100\n",
    "\n",
    "\n",
    "if a<50:\n",
    "  print(\"a is less than 50\")\n",
    "  if a<30:\n",
    "    print(\"a is less than 30\")\n",
    "    if a<25:\n",
    "      print(\"a is less than 25\")\n",
    "else:\n",
    "  print(\"no conditon is true above\")\n",
    "\n",
    "\n",
    "\n",
    "\n",
    "\n",
    "\n"
   ]
  },
  {
   "cell_type": "code",
   "execution_count": null,
   "metadata": {
    "colab": {
     "base_uri": "https://localhost:8080/"
    },
    "id": "oMNBIkOHAfQ3",
    "outputId": "8bfd8ca2-f26c-4c04-a202-506172f3fd66"
   },
   "outputs": [
    {
     "name": "stdout",
     "output_type": "stream",
     "text": [
      "enter any number45\n"
     ]
    }
   ],
   "source": [
    "a=int(input(\"enter any number\"))\n",
    "\n",
    "if a%2==0:\n",
    "\n",
    "  if a%3==0:\n",
    "\n",
    "      print(\"divisible by 2 and 3\")\n",
    "\n",
    "  print(\"divisible by only 2 \")\n",
    "else:\n",
    "  print(\"not divis\")\n",
    "\n"
   ]
  },
  {
   "cell_type": "markdown",
   "metadata": {
    "id": "6oOiPDdKGIse"
   },
   "source": [
    "elif:\n",
    "**bold text**\n"
   ]
  },
  {
   "cell_type": "code",
   "execution_count": null,
   "metadata": {
    "colab": {
     "base_uri": "https://localhost:8080/"
    },
    "id": "LYjdkCAmE3jx",
    "outputId": "220164c7-7b6b-479e-c444-5ef7702d3abd"
   },
   "outputs": [
    {
     "name": "stdout",
     "output_type": "stream",
     "text": [
      "enter any 101\n",
      "not a valid number\n"
     ]
    }
   ],
   "source": [
    "marks=int(input(\"enter any \"))\n",
    "\n",
    "if marks>=80 and marks<=100:\n",
    "          print(\"your reslutis=A+\")\n",
    "elif marks>=70 and marks<80:\n",
    "          print(\"your reslutis=A\")\n",
    "\n",
    "\n",
    "else:\n",
    "          print(\"not a valid number\")\n",
    "\n",
    "\n"
   ]
  },
  {
   "cell_type": "markdown",
   "metadata": {
    "id": "W0INe1VoPmqk"
   },
   "source": [
    "\n",
    "\n",
    "match case statement:\n",
    "\n",
    "\n"
   ]
  },
  {
   "cell_type": "code",
   "execution_count": null,
   "metadata": {
    "colab": {
     "base_uri": "https://localhost:8080/"
    },
    "id": "La5gsrHhIWMb",
    "outputId": "dac51fe0-a047-451c-f787-fbb97e188fdd"
   },
   "outputs": [
    {
     "name": "stdout",
     "output_type": "stream",
     "text": [
      "OK\n"
     ]
    }
   ],
   "source": [
    "def http_status(n):\n",
    "    match n:\n",
    "        case 200:\n",
    "            return \"OK\"\n",
    "        case 404:\n",
    "            return \"Not Found\"\n",
    "        case 500:\n",
    "            return \"Internal Server Error\"\n",
    "        case _:\n",
    "            return \"Unknown Status\"\n",
    "\n",
    "# Example usage:\n",
    "n = 200\n",
    "print(http_status(n))  # Output: Not Found\n"
   ]
  },
  {
   "cell_type": "code",
   "execution_count": null,
   "metadata": {
    "id": "qFZWZUoORDT-"
   },
   "outputs": [],
   "source": [
    "def http_status(n):\n",
    "    match n:\n",
    "        case 'a':\n",
    "            return \"OK\"\n",
    "        case :\n",
    "            return \"Not Found\"\n",
    "        case 500:\n",
    "            return \"Internal Server Error\"\n",
    "        case _:\n",
    "            return \"Unknown Status\"\n",
    "\n",
    "# Example usage:\n",
    "n = 200\n",
    "print(http_status(n))  # Output: Not Found"
   ]
  }
 ],
 "metadata": {
  "colab": {
   "provenance": []
  },
  "kernelspec": {
   "display_name": "Python 3 (ipykernel)",
   "language": "python",
   "name": "python3"
  },
  "language_info": {
   "codemirror_mode": {
    "name": "ipython",
    "version": 3
   },
   "file_extension": ".py",
   "mimetype": "text/x-python",
   "name": "python",
   "nbconvert_exporter": "python",
   "pygments_lexer": "ipython3",
   "version": "3.12.4"
  }
 },
 "nbformat": 4,
 "nbformat_minor": 4
}
