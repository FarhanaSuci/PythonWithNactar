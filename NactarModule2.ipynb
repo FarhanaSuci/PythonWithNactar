{
 "cells": [
  {
   "cell_type": "markdown",
   "metadata": {
    "id": "5aYwWJTR9gKw"
   },
   "source": [
    "***Module2***"
   ]
  },
  {
   "cell_type": "code",
   "execution_count": null,
   "metadata": {
    "colab": {
     "base_uri": "https://localhost:8080/"
    },
    "id": "uavs08SJ9i4v",
    "outputId": "56922bfc-56f8-429c-a233-c89a76a4bd84"
   },
   "outputs": [
    {
     "name": "stdout",
     "output_type": "stream",
     "text": [
      "Hello Wold\n"
     ]
    }
   ],
   "source": [
    "\n",
    "print('Hello Wold')"
   ]
  },
  {
   "cell_type": "code",
   "execution_count": null,
   "metadata": {
    "colab": {
     "base_uri": "https://localhost:8080/"
    },
    "id": "9xilvcqVEp3J",
    "outputId": "771e5114-facc-4535-a516-b27c524626b8"
   },
   "outputs": [
    {
     "name": "stdout",
     "output_type": "stream",
     "text": [
      "16\n",
      "16\n"
     ]
    }
   ],
   "source": [
    "a=5\n",
    "b=2\n",
    "c=9\n",
    "y=a+b+c\n",
    "print(y)\n",
    "x=a+\\\n",
    "b+\\\n",
    "c\n",
    "print(x)"
   ]
  },
  {
   "cell_type": "code",
   "execution_count": null,
   "metadata": {
    "colab": {
     "base_uri": "https://localhost:8080/"
    },
    "id": "L-sD1yg3tLPh",
    "outputId": "5c9a25ff-e441-45da-8bdf-7a35bb0e6863"
   },
   "outputs": [
    {
     "name": "stdout",
     "output_type": "stream",
     "text": [
      "Nactar\n",
      "Nactar\n"
     ]
    }
   ],
   "source": [
    "a='Nactar'\n",
    "b=\"Nactar\"\n",
    "print(a)\n",
    "print(b)"
   ]
  },
  {
   "cell_type": "code",
   "execution_count": null,
   "metadata": {
    "colab": {
     "base_uri": "https://localhost:8080/"
    },
    "id": "7JashDl9tsGO",
    "outputId": "b1a8ce7c-4cb8-4916-8163-df5b48493062"
   },
   "outputs": [
    {
     "name": "stdout",
     "output_type": "stream",
     "text": [
      "\n",
      "Hi Suci! How are you.\n",
      "I'm your mom from Noakhali\n",
      "I want to talk to you.\n",
      "Why you always putting your phone off?\n",
      "       \n"
     ]
    }
   ],
   "source": [
    "suci=\"\"\"\n",
    "Hi Suci! How are you.\n",
    "I'm your mom from Noakhali\n",
    "I want to talk to you.\n",
    "Why you always putting your phone off?\n",
    "       \"\"\"\n",
    "\n",
    "print(suci)"
   ]
  },
  {
   "cell_type": "code",
   "execution_count": null,
   "metadata": {
    "colab": {
     "base_uri": "https://localhost:8080/"
    },
    "id": "TCPqVeJmwjtK",
    "outputId": "6a9c3898-0465-4406-902d-d6e54d29939e"
   },
   "outputs": [
    {
     "name": "stdout",
     "output_type": "stream",
     "text": [
      "Suci\n"
     ]
    }
   ],
   "source": [
    "'''hbhacvvdas\n",
    "hggsavdgngdhgjk\n",
    "hgagsgasdgvgjgj'''\n",
    "print('Suci')\n",
    "#Hi Hello Bye"
   ]
  },
  {
   "cell_type": "markdown",
   "metadata": {
    "id": "Gs6DwuBGUzTM"
   },
   "source": [
    "***Module-3***"
   ]
  },
  {
   "cell_type": "code",
   "execution_count": null,
   "metadata": {
    "colab": {
     "base_uri": "https://localhost:8080/"
    },
    "id": "6fHhqGP8U2Ay",
    "outputId": "b22d1a9f-18e2-4c3c-b179-524171c54ca0"
   },
   "outputs": [
    {
     "name": "stdout",
     "output_type": "stream",
     "text": [
      "10\n",
      "<class 'int'>\n",
      "<class 'bool'>\n",
      "<class 'float'>\n",
      "<class 'complex'>\n"
     ]
    }
   ],
   "source": [
    "a=10\n",
    "print(a)\n",
    "b=True\n",
    "c=10.5\n",
    "d=4+6j\n",
    "print(type(a))\n",
    "print(type(b))\n",
    "print(type(c))\n",
    "print(type(d))"
   ]
  },
  {
   "cell_type": "code",
   "execution_count": null,
   "metadata": {
    "colab": {
     "base_uri": "https://localhost:8080/"
    },
    "id": "qqwhaDCkVM7t",
    "outputId": "6dd09c9d-d5c0-4a4e-9dcf-897d6127a274"
   },
   "outputs": [
    {
     "name": "stdout",
     "output_type": "stream",
     "text": [
      "NACTAR\n",
      "<class 'str'>\n",
      "[2, 3.5, 9, 'Suci', 6]\n",
      "<class 'list'>\n",
      "(2, 3.5, 90, 'Suchi', 6)\n",
      "<class 'tuple'>\n",
      "range(0, 10)\n"
     ]
    }
   ],
   "source": [
    "s=\"NACTAR\"\n",
    "print(s)\n",
    "print(type(s))\n",
    "lst=[2,3.5,9,'Suci',6]\n",
    "print(lst)\n",
    "print(type(lst))\n",
    "tpl=(2,3.5,90,'Suchi',6)\n",
    "print(tpl)\n",
    "print(type(tpl))\n",
    "r=range(10)\n",
    "print(r)"
   ]
  },
  {
   "cell_type": "code",
   "execution_count": null,
   "metadata": {
    "colab": {
     "base_uri": "https://localhost:8080/"
    },
    "id": "U94M4pMuWfrE",
    "outputId": "857e1e25-7d0e-4b1c-ad21-e430aa1042d4"
   },
   "outputs": [
    {
     "name": "stdout",
     "output_type": "stream",
     "text": [
      "0\n",
      "1\n",
      "2\n",
      "3\n",
      "4\n",
      "5\n",
      "6\n",
      "7\n",
      "8\n",
      "9\n",
      "range(0, 10)\n",
      "<class 'range'>\n"
     ]
    }
   ],
   "source": [
    "r=range(10)\n",
    "for i in range(10):\n",
    "  print(i)\n",
    "print(r)\n",
    "print(type(r))"
   ]
  },
  {
   "cell_type": "markdown",
   "metadata": {
    "id": "clpC8re0mTEH"
   },
   "source": [
    "***Module-4***"
   ]
  },
  {
   "cell_type": "code",
   "execution_count": 1,
   "metadata": {
    "id": "xiygFXUFmXI5"
   },
   "outputs": [
    {
     "name": "stdout",
     "output_type": "stream",
     "text": [
      "40\n"
     ]
    }
   ],
   "source": [
    "a=15\n",
    "b=25\n",
    "print(a+b)"
   ]
  },
  {
   "cell_type": "code",
   "execution_count": 2,
   "metadata": {},
   "outputs": [
    {
     "name": "stdout",
     "output_type": "stream",
     "text": [
      "3\n",
      "2.0\n"
     ]
    }
   ],
   "source": [
    "a=int(3.5)\n",
    "b=float(2)\n",
    "print(a)\n",
    "print(b)"
   ]
  },
  {
   "cell_type": "code",
   "execution_count": 5,
   "metadata": {},
   "outputs": [
    {
     "name": "stdout",
     "output_type": "stream",
     "text": [
      "30.5\n",
      "<class 'float'>\n",
      "<class 'int'>\n"
     ]
    }
   ],
   "source": [
    "a=20\n",
    "b=10.5\n",
    "c=a+b\n",
    "print(c)\n",
    "print(type(c))\n",
    "print(type(a))"
   ]
  },
  {
   "cell_type": "code",
   "execution_count": 6,
   "metadata": {},
   "outputs": [
    {
     "name": "stdin",
     "output_type": "stream",
     "text": [
      "Enter the value of a : 10\n",
      "Enter the value of b 20\n"
     ]
    },
    {
     "name": "stdout",
     "output_type": "stream",
     "text": [
      "30.0\n"
     ]
    }
   ],
   "source": [
    "a=int(input(\"Enter the value of a :\"))\n",
    "b=float(input(\"Enter the value of b:\"))\n",
    "c=a+b\n",
    "print(c)"
   ]
  },
  {
   "cell_type": "code",
   "execution_count": 7,
   "metadata": {},
   "outputs": [
    {
     "name": "stdin",
     "output_type": "stream",
     "text": [
      "What is your name :  Farhana Akter Suchi\n"
     ]
    },
    {
     "name": "stdout",
     "output_type": "stream",
     "text": [
      "Farhana Akter Suchi\n"
     ]
    }
   ],
   "source": [
    "d=input(\"What is your name : \")\n",
    "print(d)"
   ]
  },
  {
   "cell_type": "code",
   "execution_count": 9,
   "metadata": {},
   "outputs": [
    {
     "name": "stdout",
     "output_type": "stream",
     "text": [
      "My name is:  Farhana Akter Suchi\n"
     ]
    }
   ],
   "source": [
    "print(\"My name is: \",d)"
   ]
  },
  {
   "cell_type": "code",
   "execution_count": 10,
   "metadata": {},
   "outputs": [
    {
     "name": "stdout",
     "output_type": "stream",
     "text": [
      "After swaping the values are : \n",
      "20\n",
      "10\n",
      "Hello Suci\n"
     ]
    }
   ],
   "source": [
    "a=10\n",
    "b=20\n",
    "c=\"Hello Suci\"\n",
    "a,d,b=b,a,c\n",
    "print(\"After swaping the values are : \")\n",
    "print(a)\n",
    "print(d)\n",
    "print(b)"
   ]
  },
  {
   "cell_type": "code",
   "execution_count": 12,
   "metadata": {},
   "outputs": [
    {
     "name": "stdout",
     "output_type": "stream",
     "text": [
      "20\n",
      "20\n",
      "20\n",
      "20\n"
     ]
    }
   ],
   "source": [
    "a=b=c=d=20\n",
    "print(a)\n",
    "print(b)\n",
    "print(c)\n",
    "print(d)"
   ]
  },
  {
   "cell_type": "code",
   "execution_count": 14,
   "metadata": {},
   "outputs": [
    {
     "name": "stdout",
     "output_type": "stream",
     "text": [
      "B190305001\n"
     ]
    }
   ],
   "source": [
    "Farhana_Akter_Suci=\"B190305001\"\n",
    "print(Farhana_Akter_Suci)"
   ]
  },
  {
   "cell_type": "markdown",
   "metadata": {},
   "source": [
    "operators:\r\n",
    "1.\r\n",
    "arithmetic operator2.\r\n",
    "\r\n",
    "assignment operat3.or\r\n",
    "\r\n",
    "comparison oper4.ator\r\n",
    "\r\n",
    "logical op5.erator\r\n",
    "\r\n",
    "identity 6.operator\r\n",
    "\r\n",
    "membershi7.p operator\r\n",
    "\r\n",
    "bitwise operator"
   ]
  },
  {
   "cell_type": "code",
   "execution_count": 16,
   "metadata": {},
   "outputs": [
    {
     "name": "stdin",
     "output_type": "stream",
     "text": [
      "Enter the value of a : 21\n",
      "Enter the value of b : 5\n"
     ]
    },
    {
     "name": "stdout",
     "output_type": "stream",
     "text": [
      "The reminder is:  1\n"
     ]
    }
   ],
   "source": [
    "a=int(input(\"Enter the value of a :\"))\n",
    "b=int(input(\"Enter the value of b :\"))\n",
    "c=a%b\n",
    "print(\"The reminder is: \",c)\n"
   ]
  },
  {
   "cell_type": "markdown",
   "metadata": {},
   "source": [
    "a=int(input(\"Enter the value of a : \"))\n",
    "b=int(input(\"Enter the value of b : \"))\n",
    "e=a**b\n",
    "print(\"The result is: \",e)"
   ]
  },
  {
   "cell_type": "markdown",
   "metadata": {},
   "source": [
    "Floor Division\n"
   ]
  },
  {
   "cell_type": "code",
   "execution_count": 21,
   "metadata": {},
   "outputs": [
    {
     "name": "stdin",
     "output_type": "stream",
     "text": [
      "Enter the value of a :  20\n",
      "Enter the value of b :  3\n"
     ]
    },
    {
     "name": "stdout",
     "output_type": "stream",
     "text": [
      "Floor Division is :  6\n"
     ]
    }
   ],
   "source": [
    "a=int(input(\"Enter the value of a : \"))\n",
    "b=int(input(\"Enter the value of b : \"))\n",
    "c=a//b\n",
    "print(\"Floor Division is : \",c)"
   ]
  },
  {
   "cell_type": "markdown",
   "metadata": {},
   "source": [
    "***Module-5***"
   ]
  },
  {
   "cell_type": "code",
   "execution_count": 2,
   "metadata": {},
   "outputs": [
    {
     "name": "stdout",
     "output_type": "stream",
     "text": [
      "4\n"
     ]
    }
   ],
   "source": [
    "a=6\n",
    "a&=5 # a=a&8\n",
    "b=8\n",
    "print(a)"
   ]
  },
  {
   "cell_type": "markdown",
   "metadata": {},
   "source": [
    "Python Comparison Operator\n",
    "1. ==\n",
    "2. !=\n",
    "3. <\n",
    "4. >\n",
    "5. >=\n",
    "6. <="
   ]
  },
  {
   "cell_type": "markdown",
   "metadata": {},
   "source": [
    "a=int(input(\"Enter a : \"))\n",
    "b=int(input( \"Enter b : \"))\n",
    "if a>b :\n",
    "    print(\"a is larger\")\n",
    "    print(\"Block is executed\")\n",
    "            "
   ]
  },
  {
   "cell_type": "markdown",
   "metadata": {},
   "source": [
    "Control statement\n",
    "-Conditional control statement\n",
    "   if, elif,else\n",
    "-loop control statement \n",
    "  for"
   ]
  },
  {
   "cell_type": "code",
   "execution_count": 8,
   "metadata": {},
   "outputs": [
    {
     "name": "stdin",
     "output_type": "stream",
     "text": [
      " Enter Radius  :  5\n"
     ]
    },
    {
     "name": "stdout",
     "output_type": "stream",
     "text": [
      "Area of circle is  78.565\n"
     ]
    }
   ],
   "source": [
    "a=int(input(\" Enter Radius  : \"))\n",
    "area=(a*a)*3.1426\n",
    "print(\"Area of circle is \",area)"
   ]
  },
  {
   "cell_type": "code",
   "execution_count": 10,
   "metadata": {},
   "outputs": [
    {
     "name": "stdin",
     "output_type": "stream",
     "text": [
      "Enter the value of radius :  4\n"
     ]
    },
    {
     "name": "stdout",
     "output_type": "stream",
     "text": [
      "area=50.27\n"
     ]
    }
   ],
   "source": [
    "pi=3.1416\n",
    "r=float(input(\"Enter the value of radius : \"))\n",
    "area=pi*r*r\n",
    "area=f\"area={area:.2f}\"\n",
    "print(area)"
   ]
  },
  {
   "cell_type": "code",
   "execution_count": 12,
   "metadata": {},
   "outputs": [
    {
     "name": "stdin",
     "output_type": "stream",
     "text": [
      "Enter the radius :  4\n"
     ]
    },
    {
     "name": "stdout",
     "output_type": "stream",
     "text": [
      "Area is 50.26560\n"
     ]
    }
   ],
   "source": [
    "pi=3.1416\n",
    "r=float(input(\"Enter the radius : \"))\n",
    "area=pi*(r*r)\n",
    "area=f\"Area is {area:.5f}\"\n",
    "print(area)"
   ]
  },
  {
   "cell_type": "code",
   "execution_count": 13,
   "metadata": {},
   "outputs": [
    {
     "name": "stdout",
     "output_type": "stream",
     "text": [
      "b is larger\n"
     ]
    }
   ],
   "source": [
    "a=10\n",
    "b=20\n",
    "if a>b:\n",
    "    print(\"a is larger\")\n",
    "else:\n",
    "    print (\"b is larger\")"
   ]
  },
  {
   "cell_type": "markdown",
   "metadata": {},
   "source": [
    "and\n",
    "or\n",
    "not"
   ]
  },
  {
   "cell_type": "code",
   "execution_count": 14,
   "metadata": {
    "scrolled": true
   },
   "outputs": [
    {
     "name": "stdout",
     "output_type": "stream",
     "text": [
      "Both conditions are true\n"
     ]
    }
   ],
   "source": [
    "a=200\n",
    "b=33\n",
    "c=500\n",
    "if a>b and c>a:\n",
    "    print(\"Both conditions are true\")"
   ]
  },
  {
   "cell_type": "code",
   "execution_count": 15,
   "metadata": {},
   "outputs": [
    {
     "name": "stdout",
     "output_type": "stream",
     "text": [
      "All conditions are true\n"
     ]
    }
   ],
   "source": [
    "a=200\n",
    "b=33\n",
    "c=500\n",
    "if a>b and c>a and b<c:\n",
    "    print(\"All conditions are true\")"
   ]
  },
  {
   "cell_type": "code",
   "execution_count": 16,
   "metadata": {},
   "outputs": [
    {
     "name": "stdout",
     "output_type": "stream",
     "text": [
      "All conditions are true\n"
     ]
    }
   ],
   "source": [
    "a=200\n",
    "b=33\n",
    "c=500\n",
    "d=40\n",
    "if a>b and c>a or b>c:\n",
    "    print(\"All conditions are true\")"
   ]
  },
  {
   "cell_type": "code",
   "execution_count": 18,
   "metadata": {},
   "outputs": [
    {
     "name": "stdout",
     "output_type": "stream",
     "text": [
      "1200 Amount = 1080.0\n"
     ]
    }
   ],
   "source": [
    "discount=0\n",
    "amount=1200\n",
    "if amount > 1000:\n",
    "    discount = amount * 10/100\n",
    "print(f\"{amount} Amount = {amount-discount}\")"
   ]
  },
  {
   "cell_type": "markdown",
   "metadata": {},
   "source": [
    "\n",
    "***Module-5***"
   ]
  },
  {
   "cell_type": "code",
   "execution_count": 5,
   "metadata": {},
   "outputs": [
    {
     "name": "stdin",
     "output_type": "stream",
     "text": [
      "Enter the number:  20\n"
     ]
    },
    {
     "name": "stdout",
     "output_type": "stream",
     "text": [
      "20 is less than 50\n",
      "20 is less than 30\n",
      "20 is less than 25\n"
     ]
    }
   ],
   "source": [
    "a=int(input(\"Enter the number: \"))\n",
    "if a<50:\n",
    "    print(f\"{a} is less than 50\")\n",
    "    if a<30:\n",
    "        print(f\"{a} is less than 30\")\n",
    "        if a< 25:\n",
    "            print(f\"{a} is less than 25\")\n",
    "else:\n",
    "    print(\"No condition is true above\")\n"
   ]
  },
  {
   "cell_type": "code",
   "execution_count": 8,
   "metadata": {},
   "outputs": [
    {
     "name": "stdin",
     "output_type": "stream",
     "text": [
      "Enter any number :  15\n"
     ]
    },
    {
     "name": "stdout",
     "output_type": "stream",
     "text": [
      "15 is divisible by only 3\n"
     ]
    }
   ],
   "source": [
    "a=int(input(\"Enter any number : \"))\n",
    "if a%3 ==0:\n",
    "    if a%2 ==0 :\n",
    "        print(f\"{a} is divisible by both 2 and 3\")\n",
    "    print(f\"{a} is divisible by only 3\")\n",
    "else:\n",
    "    print(f\"{a} can be divisible neither 2 nor 3 \")"
   ]
  },
  {
   "cell_type": "code",
   "execution_count": 11,
   "metadata": {},
   "outputs": [
    {
     "name": "stdin",
     "output_type": "stream",
     "text": [
      "Enter Marks :  45\n"
     ]
    },
    {
     "name": "stdout",
     "output_type": "stream",
     "text": [
      "Sorry! You are not elegible for this exam\n"
     ]
    }
   ],
   "source": [
    "marks=int(input(\"Enter Marks : \"))\n",
    "if (marks >=80 and marks <=100):\n",
    "    print(\"Congratulations! You get A+\")\n",
    "elif( marks>=70 and marks <=79 ):\n",
    "    print(\"You get A\")\n",
    "else:\n",
    "    print(\"Sorry! You are not elegible for this exam\")"
   ]
  },
  {
   "cell_type": "markdown",
   "metadata": {},
   "source": [
    "Match Case Statement\n"
   ]
  },
  {
   "cell_type": "code",
   "execution_count": 13,
   "metadata": {},
   "outputs": [
    {
     "name": "stdout",
     "output_type": "stream",
     "text": [
      "Unknown Status\n"
     ]
    }
   ],
   "source": [
    "def http_status(n):\n",
    "    match n:\n",
    "        case 'a':\n",
    "            return \"OK\"\n",
    "        case 'b':\n",
    "            return \"Not Found\"\n",
    "        case 500:\n",
    "            return \"Internal Server Error\"\n",
    "        case _:\n",
    "            return \"Unknown Status\"\n",
    "\n",
    "# Example usage:\n",
    "n = 200\n",
    "print(http_status(n))  # Output: Not Found"
   ]
  },
  {
   "cell_type": "code",
   "execution_count": 16,
   "metadata": {},
   "outputs": [
    {
     "name": "stdout",
     "output_type": "stream",
     "text": [
      "You got A+\n"
     ]
    }
   ],
   "source": [
    "def result(n):\n",
    "    match n:\n",
    "      case 80:\n",
    "           print(\"You got A+\")\n",
    "      case 70:\n",
    "           print(\"You got A\")\n",
    "      case _:\n",
    "           print(\"You are not elegible for this exam\")\n",
    "\n",
    "\n",
    "result(80)"
   ]
  },
  {
   "cell_type": "markdown",
   "metadata": {},
   "source": [
    "***Module-6***"
   ]
  },
  {
   "cell_type": "markdown",
   "metadata": {},
   "source": [
    "Loop Control Statement\n",
    "-while\n",
    "-for"
   ]
  },
  {
   "cell_type": "code",
   "execution_count": 1,
   "metadata": {},
   "outputs": [
    {
     "name": "stdout",
     "output_type": "stream",
     "text": [
      "Nactar\n",
      "Nactar\n",
      "Nactar\n",
      "Nactar\n",
      "Nactar\n",
      "Nactar\n",
      "Nactar\n",
      "Nactar\n",
      "Nactar\n",
      "Nactar\n"
     ]
    }
   ],
   "source": [
    "i=0\n",
    "while i<10:\n",
    "    print(\"Nactar\")\n",
    "    i=i+1"
   ]
  },
  {
   "cell_type": "code",
   "execution_count": 2,
   "metadata": {},
   "outputs": [
    {
     "name": "stdout",
     "output_type": "stream",
     "text": [
      "s= 1 i= 1\n",
      "s= 3 i= 2\n",
      "s= 6 i= 3\n",
      "s= 10 i= 4\n",
      "s= 15 i= 5\n",
      "summation= 15\n"
     ]
    }
   ],
   "source": [
    "i=1\n",
    "s=0\n",
    "while i<=5:\n",
    "    s=s+i\n",
    "    print(\"s=\",s,end=\" \")\n",
    "    print(\"i=\",i)\n",
    "    i=i+1\n",
    "\n",
    "print(\"summation=\",s)\n",
    "    "
   ]
  },
  {
   "cell_type": "code",
   "execution_count": 3,
   "metadata": {},
   "outputs": [
    {
     "name": "stdout",
     "output_type": "stream",
     "text": [
      "1\n",
      "2\n",
      "3\n",
      "4\n",
      "5\n"
     ]
    }
   ],
   "source": [
    "i=1\n",
    "while i<10:\n",
    "    if i==6:\n",
    "        break\n",
    "    print(i)\n",
    "    i+=1"
   ]
  },
  {
   "cell_type": "code",
   "execution_count": 5,
   "metadata": {},
   "outputs": [
    {
     "name": "stdout",
     "output_type": "stream",
     "text": [
      "Current variable value :  10\n",
      "Current variable value :  9\n",
      "Current variable value :  8\n",
      "Current variable value :  7\n",
      "Current variable value :  6\n",
      "\n",
      "Good Bye!\n"
     ]
    }
   ],
   "source": [
    "var=10\n",
    "while var >0 :\n",
    "    print('Current variable value : ',var)\n",
    "    var=var-1\n",
    "    if var==5:\n",
    "        break\n",
    "print('\\nGood Bye!')"
   ]
  },
  {
   "cell_type": "markdown",
   "metadata": {},
   "source": [
    "***Module-7***"
   ]
  },
  {
   "cell_type": "markdown",
   "metadata": {},
   "source": [
    "Loop Control Statement \n",
    "1.While\n",
    "2.For"
   ]
  },
  {
   "cell_type": "code",
   "execution_count": 2,
   "metadata": {},
   "outputs": [
    {
     "name": "stdout",
     "output_type": "stream",
     "text": [
      "Nactar\n",
      "Nactar\n",
      "Nactar\n",
      "Nactar\n",
      "Nactar\n",
      "Nactar\n",
      "Nactar\n",
      "Nactar\n",
      "Nactar\n",
      "Nactar\n"
     ]
    }
   ],
   "source": [
    "i=0\n",
    "while i <10:\n",
    "    print(\"Nactar\")\n",
    "    i+=1"
   ]
  },
  {
   "cell_type": "code",
   "execution_count": 4,
   "metadata": {},
   "outputs": [
    {
     "name": "stdout",
     "output_type": "stream",
     "text": [
      "Nactar Nactar Nactar Nactar Nactar Nactar Nactar Nactar Nactar "
     ]
    }
   ],
   "source": [
    "i=10\n",
    "while i>1:\n",
    "    print(\"Nactar\", end=\" \")\n",
    "    i=i-1"
   ]
  },
  {
   "cell_type": "code",
   "execution_count": 5,
   "metadata": {},
   "outputs": [
    {
     "name": "stdout",
     "output_type": "stream",
     "text": [
      "0 2 4 6 8 10 12 14 16 18 20 22 24 26 28 30 32 34 36 38 40 42 44 46 48 50 52 54 56 58 60 62 64 66 68 70 72 74 76 78 80 82 84 86 88 90 92 94 96 98 "
     ]
    }
   ],
   "source": [
    "i=0\n",
    "while i<100:\n",
    "    print(i,end=\" \")\n",
    "    i=i+2"
   ]
  },
  {
   "cell_type": "code",
   "execution_count": 6,
   "metadata": {},
   "outputs": [
    {
     "name": "stdout",
     "output_type": "stream",
     "text": [
      "1 2 3 4 5 6 7 8 9 10 11 12 13 14 15 16 17 18 19 20 21 22 23 24 25 26 27 28 29 30 31 32 33 34 35 36 37 38 39 40 41 42 43 44 45 46 47 48 49 50 51 52 53 54 55 56 57 58 59 60 61 62 63 64 65 66 67 68 69 70 71 72 73 74 75 76 77 78 79 80 81 82 83 84 85 86 87 88 89 90 91 92 93 94 95 96 97 98 99 100 "
     ]
    }
   ],
   "source": [
    "i=1\n",
    "while i <=100:\n",
    "    print(i,end=\" \")\n",
    "    i+=1"
   ]
  },
  {
   "cell_type": "code",
   "execution_count": 8,
   "metadata": {},
   "outputs": [
    {
     "name": "stdout",
     "output_type": "stream",
     "text": [
      "Odd number is : \n",
      "1 3 5 7 9 11 13 15 17 19 21 23 25 27 29 31 33 35 37 39 41 43 45 47 49 51 53 55 57 59 61 63 65 67 69 71 73 75 77 79 81 83 85 87 89 91 93 95 97 99 "
     ]
    }
   ],
   "source": [
    "#Print odd number using while loop(1 to 100)\n",
    "i=1\n",
    "print(\"Odd number is : \")\n",
    "while i<100:\n",
    "    \n",
    "    if i%2 !=0:\n",
    "        print(i,end=\" \")\n",
    "    i+=1"
   ]
  },
  {
   "cell_type": "code",
   "execution_count": 13,
   "metadata": {},
   "outputs": [
    {
     "name": "stdin",
     "output_type": "stream",
     "text": [
      "Enter the number :  5\n"
     ]
    },
    {
     "name": "stdout",
     "output_type": "stream",
     "text": [
      "15\n"
     ]
    }
   ],
   "source": [
    "##Summation of number up to n\n",
    "n=int(input(\"Enter the number : \"))\n",
    "i=1\n",
    "s=0\n",
    "while i <= n:\n",
    "          s+=i\n",
    "          i+=1\n",
    "print(s)"
   ]
  },
  {
   "cell_type": "code",
   "execution_count": 14,
   "metadata": {},
   "outputs": [
    {
     "name": "stdout",
     "output_type": "stream",
     "text": [
      "1\n",
      "2\n",
      "3\n",
      "4\n",
      "5\n"
     ]
    }
   ],
   "source": [
    "#Break statement\n",
    "i=1\n",
    "while i<10:\n",
    "    if i==6:\n",
    "        break\n",
    "    print(i)\n",
    "    i=i+1"
   ]
  },
  {
   "cell_type": "code",
   "execution_count": 16,
   "metadata": {},
   "outputs": [
    {
     "name": "stdout",
     "output_type": "stream",
     "text": [
      "Current variable value :  10\n",
      "Current variable value :  9\n",
      "Current variable value :  8\n",
      "Current variable value :  7\n",
      "Current variable value :  6\n",
      "Good Bye\n"
     ]
    }
   ],
   "source": [
    "var=10\n",
    "while var >0:\n",
    "    print(\"Current variable value : \",var)\n",
    "    var=var-1\n",
    "    if var==5:\n",
    "        break\n",
    "print(\"Good Bye\")\n",
    "     "
   ]
  },
  {
   "cell_type": "markdown",
   "metadata": {},
   "source": [
    "***Class-8***"
   ]
  },
  {
   "cell_type": "markdown",
   "metadata": {},
   "source": [
    "**1.breaks and continue with while and for loops\n",
    "2.Details for loops**"
   ]
  },
  {
   "cell_type": "code",
   "execution_count": 18,
   "metadata": {},
   "outputs": [
    {
     "name": "stdout",
     "output_type": "stream",
     "text": [
      "1 2 3 4 6 7 8 9 10 "
     ]
    }
   ],
   "source": [
    "i=0\n",
    "while i<10:\n",
    "    i+=1\n",
    "    if i==5:\n",
    "        continue\n",
    "    print(i,end=\" \")\n",
    "    "
   ]
  },
  {
   "cell_type": "code",
   "execution_count": 19,
   "metadata": {},
   "outputs": [
    {
     "name": "stdout",
     "output_type": "stream",
     "text": [
      "1 2 3 4 "
     ]
    }
   ],
   "source": [
    "i=0\n",
    "while i<10:\n",
    "    i+=1\n",
    "    if i==5:\n",
    "        break\n",
    "    print(i,end=\" \")"
   ]
  },
  {
   "cell_type": "code",
   "execution_count": 20,
   "metadata": {},
   "outputs": [
    {
     "name": "stdout",
     "output_type": "stream",
     "text": [
      "0   Farhana Akter Suci\n",
      "1   Farhana Akter Suci\n",
      "2   Farhana Akter Suci\n",
      "3   Farhana Akter Suci\n",
      "4   Farhana Akter Suci\n"
     ]
    }
   ],
   "source": [
    "s=\"Farhana Akter Suci\"\n",
    "for i in range(5):\n",
    "    print(i,\" \",s)"
   ]
  },
  {
   "cell_type": "code",
   "execution_count": 22,
   "metadata": {},
   "outputs": [
    {
     "name": "stdout",
     "output_type": "stream",
     "text": [
      "S\n",
      "u\n",
      "c\n",
      "h\n",
      "i\n"
     ]
    }
   ],
   "source": [
    "s=\"Suchi\"\n",
    "for i in s:\n",
    "    print(i)"
   ]
  },
  {
   "cell_type": "code",
   "execution_count": 25,
   "metadata": {},
   "outputs": [
    {
     "name": "stdout",
     "output_type": "stream",
     "text": [
      "S\n"
     ]
    }
   ],
   "source": [
    "#s[0]='K'\n",
    "print(s[0])"
   ]
  },
  {
   "cell_type": "markdown",
   "metadata": {},
   "source": [
    "***Class-9***"
   ]
  },
  {
   "cell_type": "code",
   "execution_count": 26,
   "metadata": {},
   "outputs": [
    {
     "name": "stdout",
     "output_type": "stream",
     "text": [
      "0 1 2 3 4 5 6 7 8 9 "
     ]
    }
   ],
   "source": [
    "for suci in range(10):\n",
    "    print(suci,end=\" \")"
   ]
  },
  {
   "cell_type": "code",
   "execution_count": 28,
   "metadata": {},
   "outputs": [
    {
     "name": "stdout",
     "output_type": "stream",
     "text": [
      "10 15 20 25 "
     ]
    }
   ],
   "source": [
    "for farha in range(10,30,5):\n",
    "    print(farha,end=\" \")"
   ]
  },
  {
   "cell_type": "code",
   "execution_count": 31,
   "metadata": {},
   "outputs": [
    {
     "name": "stdout",
     "output_type": "stream",
     "text": [
      "52 45 38 31 "
     ]
    }
   ],
   "source": [
    "for suci in range(52,30,-7):\n",
    "    print(suci,end=\" \")"
   ]
  },
  {
   "cell_type": "code",
   "execution_count": 37,
   "metadata": {},
   "outputs": [
    {
     "name": "stdout",
     "output_type": "stream",
     "text": [
      "2 3 4 5 6 7 8 9 10 11 12 13 14 15 16 17 18 19 20 21 22 23 24 25 26 27 28 29 "
     ]
    }
   ],
   "source": [
    "num=1\n",
    "for num in range(2, 30,num**num ):\n",
    "   print (num, end=' ')"
   ]
  },
  {
   "cell_type": "code",
   "execution_count": 38,
   "metadata": {},
   "outputs": [
    {
     "name": "stdout",
     "output_type": "stream",
     "text": [
      "19 20 30 40 50 60 70 80 90 100 "
     ]
    }
   ],
   "source": [
    "tpl=(19,20,30,40,50,60,70,80,90,100)\n",
    "for i in tpl:\n",
    "    print(i,end=\" \")"
   ]
  },
  {
   "cell_type": "code",
   "execution_count": 43,
   "metadata": {},
   "outputs": [
    {
     "name": "stdout",
     "output_type": "stream",
     "text": [
      "Here is my family members:  Suchi, Majeda, Ajmir, Aminul, Sumi, "
     ]
    }
   ],
   "source": [
    "family=['Suchi','Majeda','Ajmir','Aminul','Sumi']\n",
    "print(\"Here is my family members: \",end=\" \")\n",
    "for i in family:\n",
    "    print(i, end=\", \")"
   ]
  },
  {
   "cell_type": "code",
   "execution_count": null,
   "metadata": {},
   "outputs": [],
   "source": [
    "def ln(arr, target):\n",
    "   for index, value in enumerate(arr):\n",
    "     if value==target:\n",
    "       return index\n",
    "   return -1\n",
    "\n",
    "arr=[10,12,34,56,78,34,56,89,90,100,78]\n",
    "lst=[45,56,78,8,90,23,45]\n",
    "target=124\n",
    "result=ln(lst,target)\n",
    "\n",
    "if result ==-1:\n",
    "  print(f\"element found at index {result} \")\n",
    "else:\n",
    "  print(\"element not found\")\n"
   ]
  },
  {
   "cell_type": "code",
   "execution_count": 69,
   "metadata": {},
   "outputs": [
    {
     "name": "stdout",
     "output_type": "stream",
     "text": [
      "Summation of list is : 355\n"
     ]
    },
    {
     "name": "stdin",
     "output_type": "stream",
     "text": [
      "Enter the number :  55\n"
     ]
    },
    {
     "name": "stdout",
     "output_type": "stream",
     "text": [
      "element found at index:  6\n"
     ]
    }
   ],
   "source": [
    "#linear search using list\n",
    "def LinearSearch(lst,target):\n",
    "    for index,value in enumerate(lst):\n",
    "        if value==target:\n",
    "            return index\n",
    "    return -1\n",
    "        \n",
    "lst=[45,56,78,8,90,23,55]\n",
    "print(f\"Summation of list is : {sum(lst)}\")\n",
    "target=int(input(\"Enter the number : \"))\n",
    "result=LinearSearch(lst,target)\n",
    "if result==-1:\n",
    "    print(\"Element not found\")\n",
    "    \n",
    "else:\n",
    "    print(f\"element found at index:  {result}\")\n",
    "    "
   ]
  },
  {
   "cell_type": "code",
   "execution_count": 53,
   "metadata": {},
   "outputs": [
    {
     "name": "stdout",
     "output_type": "stream",
     "text": [
      "0 1\n",
      "1 2\n",
      "2 4\n",
      "3 7\n",
      "4 8\n",
      "5 9\n"
     ]
    }
   ],
   "source": [
    "f=[1,2,4,7,8,9]\n",
    "for x,y in enumerate(f):\n",
    "  print(x,y)\n"
   ]
  },
  {
   "cell_type": "code",
   "execution_count": 59,
   "metadata": {},
   "outputs": [
    {
     "name": "stdout",
     "output_type": "stream",
     "text": [
      "print list item on index = [5, 6, 7, 8, 9, 11, 34]\n",
      "print list item on index = [5, 6, 7]\n",
      "print list item on index = [3, 5, 6, 7]\n",
      "print list item on index = [3, 5, 6, 7, 8, 9, 11, 34]\n",
      "print list item on index = [7, 8, 9]\n",
      "print list item on index = [34]\n",
      "print list item on index = [8, 9, 11]\n",
      "print list item on index = [8, 11]\n"
     ]
    }
   ],
   "source": [
    "#access with sliceer\n",
    "lst1=[3,5,6,7,8,9,11,34]\n",
    "lst2=['shafiqul','sirajul','ajoy barura','oysi']\n",
    "print(\"print list item on index =\",lst1[1:])\n",
    "print(\"print list item on index =\",lst1[1:4])\n",
    "print(\"print list item on index =\",lst1[:4])\n",
    "print(\"print list item on index =\",lst1[:])\n",
    "print(\"print list item on index =\",lst1[3:6])\n",
    "\n",
    "print(\"print list item on index =\",lst1[-1:])\n",
    "print(\"print list item on index =\",lst1[-4:-1])\n",
    "print(\"print list item on index =\",lst1[-4:-1:2])"
   ]
  },
  {
   "cell_type": "code",
   "execution_count": null,
   "metadata": {},
   "outputs": [],
   "source": []
  },
  {
   "cell_type": "code",
   "execution_count": null,
   "metadata": {},
   "outputs": [],
   "source": []
  }
 ],
 "metadata": {
  "colab": {
   "provenance": []
  },
  "kernelspec": {
   "display_name": "Python 3 (ipykernel)",
   "language": "python",
   "name": "python3"
  },
  "language_info": {
   "codemirror_mode": {
    "name": "ipython",
    "version": 3
   },
   "file_extension": ".py",
   "mimetype": "text/x-python",
   "name": "python",
   "nbconvert_exporter": "python",
   "pygments_lexer": "ipython3",
   "version": "3.12.4"
  }
 },
 "nbformat": 4,
 "nbformat_minor": 4
}
